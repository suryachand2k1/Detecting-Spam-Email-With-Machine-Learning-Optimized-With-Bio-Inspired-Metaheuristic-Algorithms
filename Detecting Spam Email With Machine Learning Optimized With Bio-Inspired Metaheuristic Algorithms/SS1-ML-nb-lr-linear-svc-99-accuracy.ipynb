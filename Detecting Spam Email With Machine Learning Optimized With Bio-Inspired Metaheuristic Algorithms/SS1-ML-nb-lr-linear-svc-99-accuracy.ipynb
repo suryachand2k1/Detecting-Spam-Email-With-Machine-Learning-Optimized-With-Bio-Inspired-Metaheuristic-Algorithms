{
 "cells": [
  {
   "cell_type": "code",
   "execution_count": 68,
   "id": "extended-collect",
   "metadata": {
    "_cell_guid": "b1076dfc-b9ad-4769-8c92-a6c4dae69d19",
    "_uuid": "8f2839f25d086af736a60e9eeb907d3b93b6e0e5",
    "execution": {
     "iopub.execute_input": "2021-06-21T06:11:20.285083Z",
     "iopub.status.busy": "2021-06-21T06:11:20.284315Z",
     "iopub.status.idle": "2021-06-21T06:11:21.263291Z",
     "shell.execute_reply": "2021-06-21T06:11:21.262033Z",
     "shell.execute_reply.started": "2021-06-21T04:39:11.583158Z"
    },
    "papermill": {
     "duration": 1.026043,
     "end_time": "2021-06-21T06:11:21.263518",
     "exception": false,
     "start_time": "2021-06-21T06:11:20.237475",
     "status": "completed"
    },
    "tags": []
   },
   "outputs": [
    {
     "name": "stdout",
     "output_type": "stream",
     "text": [
      "C:/Users/Tru-pro/Desktop/Fake-tweet-test/d\\Corona_NLP_test.csv\n",
      "C:/Users/Tru-pro/Desktop/Fake-tweet-test/d\\Corona_NLP_train.csv\n",
      "C:/Users/Tru-pro/Desktop/Fake-tweet-test/d\\en_dup.csv\n"
     ]
    }
   ],
   "source": [
    "# This Python 3 environment comes with many helpful analytics libraries installed\n",
    "# It is defined by the kaggle/python Docker image: https://github.com/kaggle/docker-python\n",
    "# For example, here's several helpful packages to load\n",
    "\n",
    "import numpy as np # linear algebra\n",
    "import pandas as pd # data processing, CSV file I/O (e.g. pd.read_csv)\n",
    "\n",
    "# visualization\n",
    "import matplotlib.pyplot as plt\n",
    "import seaborn as sns\n",
    "\n",
    "# Input data files are available in the read-only \"../input/\" directory\n",
    "# For example, running this (by clicking run or pressing Shift+Enter) will list all files under the input directory\n",
    "\n",
    "import os\n",
    "for dirname, _, filenames in os.walk('C:/Users/Tru-pro/Desktop/Fake-tweet-test/d'):\n",
    "    for filename in filenames:\n",
    "        print(os.path.join(dirname, filename))\n",
    "\n",
    "# You can write up to 20GB to the current directory (/kaggle/working/) that gets preserved as output when you create a version using \"Save & Run All\" \n",
    "# You can also write temporary files to /kaggle/temp/, but they won't be saved outside of the current session"
   ]
  },
  {
   "cell_type": "code",
   "execution_count": 69,
   "id": "subject-mobility",
   "metadata": {
    "execution": {
     "iopub.execute_input": "2021-06-21T06:11:21.339508Z",
     "iopub.status.busy": "2021-06-21T06:11:21.338720Z",
     "iopub.status.idle": "2021-06-21T06:11:24.406317Z",
     "shell.execute_reply": "2021-06-21T06:11:24.405580Z",
     "shell.execute_reply.started": "2021-06-21T04:42:53.805646Z"
    },
    "papermill": {
     "duration": 3.108073,
     "end_time": "2021-06-21T06:11:24.406490",
     "exception": false,
     "start_time": "2021-06-21T06:11:21.298417",
     "status": "completed"
    },
    "tags": []
   },
   "outputs": [],
   "source": [
    "# Let's get both the data\n",
    "#fake = pd.read_csv('C:/Users/Tru-pro/Desktop/fAKE Tweet/data/Fake.csv')\n",
    "#true = pd.read_csv('C:/Users/Tru-pro/Desktop/fAKE Tweet/data/True.csv')\n",
    "df = pd.read_csv(\"d/spamham.csv\")"
   ]
  },
  {
   "cell_type": "code",
   "execution_count": 70,
   "id": "seeing-sewing",
   "metadata": {
    "execution": {
     "iopub.execute_input": "2021-06-21T06:11:24.484977Z",
     "iopub.status.busy": "2021-06-21T06:11:24.484109Z",
     "iopub.status.idle": "2021-06-21T06:11:24.507537Z",
     "shell.execute_reply": "2021-06-21T06:11:24.506810Z",
     "shell.execute_reply.started": "2021-06-21T04:43:43.548325Z"
    },
    "papermill": {
     "duration": 0.068404,
     "end_time": "2021-06-21T06:11:24.507715",
     "exception": false,
     "start_time": "2021-06-21T06:11:24.439311",
     "status": "completed"
    },
    "tags": []
   },
   "outputs": [
    {
     "data": {
      "text/html": [
       "<div>\n",
       "<style scoped>\n",
       "    .dataframe tbody tr th:only-of-type {\n",
       "        vertical-align: middle;\n",
       "    }\n",
       "\n",
       "    .dataframe tbody tr th {\n",
       "        vertical-align: top;\n",
       "    }\n",
       "\n",
       "    .dataframe thead th {\n",
       "        text-align: right;\n",
       "    }\n",
       "</style>\n",
       "<table border=\"1\" class=\"dataframe\">\n",
       "  <thead>\n",
       "    <tr style=\"text-align: right;\">\n",
       "      <th></th>\n",
       "      <th>Category</th>\n",
       "      <th>Message</th>\n",
       "    </tr>\n",
       "  </thead>\n",
       "  <tbody>\n",
       "    <tr>\n",
       "      <th>0</th>\n",
       "      <td>ham</td>\n",
       "      <td>Go until jurong point, crazy.. Available only ...</td>\n",
       "    </tr>\n",
       "    <tr>\n",
       "      <th>1</th>\n",
       "      <td>ham</td>\n",
       "      <td>Ok lar... Joking wif u oni...</td>\n",
       "    </tr>\n",
       "    <tr>\n",
       "      <th>2</th>\n",
       "      <td>spam</td>\n",
       "      <td>Free entry in 2 a wkly comp to win FA Cup fina...</td>\n",
       "    </tr>\n",
       "    <tr>\n",
       "      <th>3</th>\n",
       "      <td>ham</td>\n",
       "      <td>U dun say so early hor... U c already then say...</td>\n",
       "    </tr>\n",
       "    <tr>\n",
       "      <th>4</th>\n",
       "      <td>ham</td>\n",
       "      <td>Nah I don't think he goes to usf, he lives aro...</td>\n",
       "    </tr>\n",
       "  </tbody>\n",
       "</table>\n",
       "</div>"
      ],
      "text/plain": [
       "  Category                                            Message\n",
       "0      ham  Go until jurong point, crazy.. Available only ...\n",
       "1      ham                      Ok lar... Joking wif u oni...\n",
       "2     spam  Free entry in 2 a wkly comp to win FA Cup fina...\n",
       "3      ham  U dun say so early hor... U c already then say...\n",
       "4      ham  Nah I don't think he goes to usf, he lives aro..."
      ]
     },
     "execution_count": 70,
     "metadata": {},
     "output_type": "execute_result"
    }
   ],
   "source": [
    "# Fake news\n",
    "df.head()"
   ]
  },
  {
   "cell_type": "code",
   "execution_count": 71,
   "id": "intended-envelope",
   "metadata": {
    "execution": {
     "iopub.execute_input": "2021-06-21T06:11:24.587984Z",
     "iopub.status.busy": "2021-06-21T06:11:24.587260Z",
     "iopub.status.idle": "2021-06-21T06:11:24.595830Z",
     "shell.execute_reply": "2021-06-21T06:11:24.594752Z",
     "shell.execute_reply.started": "2021-06-21T04:44:08.98324Z"
    },
    "papermill": {
     "duration": 0.053472,
     "end_time": "2021-06-21T06:11:24.596011",
     "exception": false,
     "start_time": "2021-06-21T06:11:24.542539",
     "status": "completed"
    },
    "tags": []
   },
   "outputs": [],
   "source": [
    "# Real/True news\n",
    "#true.head()"
   ]
  },
  {
   "cell_type": "code",
   "execution_count": 72,
   "id": "equipped-circulation",
   "metadata": {
    "execution": {
     "iopub.execute_input": "2021-06-21T06:11:24.669354Z",
     "iopub.status.busy": "2021-06-21T06:11:24.668590Z",
     "iopub.status.idle": "2021-06-21T06:11:24.676993Z",
     "shell.execute_reply": "2021-06-21T06:11:24.676312Z",
     "shell.execute_reply.started": "2021-06-21T04:47:02.415919Z"
    },
    "papermill": {
     "duration": 0.047242,
     "end_time": "2021-06-21T06:11:24.677176",
     "exception": false,
     "start_time": "2021-06-21T06:11:24.629934",
     "status": "completed"
    },
    "tags": []
   },
   "outputs": [],
   "source": [
    "# Let's insert a new column 'Real_or_Fake'.It will help when we combine both the tables in determining \n",
    "# Fake or Real news\n",
    "#fake['Real_or_Fake'] = 'Fake'\n",
    "#true['Real_or_Fake'] = 'Real'"
   ]
  },
  {
   "cell_type": "markdown",
   "id": "proper-accident",
   "metadata": {
    "papermill": {
     "duration": 0.034444,
     "end_time": "2021-06-21T06:11:24.745361",
     "exception": false,
     "start_time": "2021-06-21T06:11:24.710917",
     "status": "completed"
    },
    "tags": []
   },
   "source": [
    "**Combining fake and true table into one**"
   ]
  },
  {
   "cell_type": "code",
   "execution_count": 73,
   "id": "intensive-diagnosis",
   "metadata": {
    "execution": {
     "iopub.execute_input": "2021-06-21T06:11:24.818986Z",
     "iopub.status.busy": "2021-06-21T06:11:24.818224Z",
     "iopub.status.idle": "2021-06-21T06:11:24.846302Z",
     "shell.execute_reply": "2021-06-21T06:11:24.846844Z",
     "shell.execute_reply.started": "2021-06-21T04:49:12.063858Z"
    },
    "papermill": {
     "duration": 0.067952,
     "end_time": "2021-06-21T06:11:24.847061",
     "exception": false,
     "start_time": "2021-06-21T06:11:24.779109",
     "status": "completed"
    },
    "tags": []
   },
   "outputs": [],
   "source": [
    "#news = pd.concat([true,fake],axis=0,ignore_index=True)\n",
    "\n",
    "# First 5 rows of the news table\n",
    "#news.head()"
   ]
  },
  {
   "cell_type": "code",
   "execution_count": 74,
   "id": "7802d91e",
   "metadata": {},
   "outputs": [
    {
     "data": {
      "text/html": [
       "<div>\n",
       "<style scoped>\n",
       "    .dataframe tbody tr th:only-of-type {\n",
       "        vertical-align: middle;\n",
       "    }\n",
       "\n",
       "    .dataframe tbody tr th {\n",
       "        vertical-align: top;\n",
       "    }\n",
       "\n",
       "    .dataframe thead th {\n",
       "        text-align: right;\n",
       "    }\n",
       "</style>\n",
       "<table border=\"1\" class=\"dataframe\">\n",
       "  <thead>\n",
       "    <tr style=\"text-align: right;\">\n",
       "      <th></th>\n",
       "      <th>Category</th>\n",
       "      <th>Message</th>\n",
       "    </tr>\n",
       "  </thead>\n",
       "  <tbody>\n",
       "    <tr>\n",
       "      <th>0</th>\n",
       "      <td>0</td>\n",
       "      <td>Go until jurong point, crazy.. Available only ...</td>\n",
       "    </tr>\n",
       "    <tr>\n",
       "      <th>1</th>\n",
       "      <td>0</td>\n",
       "      <td>Ok lar... Joking wif u oni...</td>\n",
       "    </tr>\n",
       "    <tr>\n",
       "      <th>2</th>\n",
       "      <td>1</td>\n",
       "      <td>Free entry in 2 a wkly comp to win FA Cup fina...</td>\n",
       "    </tr>\n",
       "    <tr>\n",
       "      <th>3</th>\n",
       "      <td>0</td>\n",
       "      <td>U dun say so early hor... U c already then say...</td>\n",
       "    </tr>\n",
       "    <tr>\n",
       "      <th>4</th>\n",
       "      <td>0</td>\n",
       "      <td>Nah I don't think he goes to usf, he lives aro...</td>\n",
       "    </tr>\n",
       "    <tr>\n",
       "      <th>5</th>\n",
       "      <td>1</td>\n",
       "      <td>FreeMsg Hey there darling it's been 3 week's n...</td>\n",
       "    </tr>\n",
       "    <tr>\n",
       "      <th>6</th>\n",
       "      <td>0</td>\n",
       "      <td>Even my brother is not like to speak with me. ...</td>\n",
       "    </tr>\n",
       "    <tr>\n",
       "      <th>7</th>\n",
       "      <td>0</td>\n",
       "      <td>As per your request 'Melle Melle (Oru Minnamin...</td>\n",
       "    </tr>\n",
       "    <tr>\n",
       "      <th>8</th>\n",
       "      <td>1</td>\n",
       "      <td>WINNER!! As a valued network customer you have...</td>\n",
       "    </tr>\n",
       "    <tr>\n",
       "      <th>9</th>\n",
       "      <td>1</td>\n",
       "      <td>Had your mobile 11 months or more? U R entitle...</td>\n",
       "    </tr>\n",
       "  </tbody>\n",
       "</table>\n",
       "</div>"
      ],
      "text/plain": [
       "   Category                                            Message\n",
       "0         0  Go until jurong point, crazy.. Available only ...\n",
       "1         0                      Ok lar... Joking wif u oni...\n",
       "2         1  Free entry in 2 a wkly comp to win FA Cup fina...\n",
       "3         0  U dun say so early hor... U c already then say...\n",
       "4         0  Nah I don't think he goes to usf, he lives aro...\n",
       "5         1  FreeMsg Hey there darling it's been 3 week's n...\n",
       "6         0  Even my brother is not like to speak with me. ...\n",
       "7         0  As per your request 'Melle Melle (Oru Minnamin...\n",
       "8         1  WINNER!! As a valued network customer you have...\n",
       "9         1  Had your mobile 11 months or more? U R entitle..."
      ]
     },
     "execution_count": 74,
     "metadata": {},
     "output_type": "execute_result"
    }
   ],
   "source": [
    "from sklearn.preprocessing import LabelEncoder\n",
    "le_3 = LabelEncoder()\n",
    "label_3=le_3.fit_transform(df[\"Category\"])\n",
    "df[\"Category\"]=label_3\n",
    "\n",
    "df.head(10)\n"
   ]
  },
  {
   "cell_type": "code",
   "execution_count": 75,
   "id": "eleven-spank",
   "metadata": {
    "execution": {
     "iopub.execute_input": "2021-06-21T06:11:24.961783Z",
     "iopub.status.busy": "2021-06-21T06:11:24.945688Z",
     "iopub.status.idle": "2021-06-21T06:11:25.137761Z",
     "shell.execute_reply": "2021-06-21T06:11:25.137062Z",
     "shell.execute_reply.started": "2021-06-21T04:50:47.189261Z"
    },
    "papermill": {
     "duration": 0.25676,
     "end_time": "2021-06-21T06:11:25.137951",
     "exception": false,
     "start_time": "2021-06-21T06:11:24.881191",
     "status": "completed"
    },
    "tags": []
   },
   "outputs": [
    {
     "name": "stdout",
     "output_type": "stream",
     "text": [
      "0    4825\n",
      "1     747\n",
      "Name: Category, dtype: int64\n"
     ]
    },
    {
     "data": {
      "text/plain": [
       "<AxesSubplot:xlabel='Category', ylabel='count'>"
      ]
     },
     "execution_count": 75,
     "metadata": {},
     "output_type": "execute_result"
    },
    {
     "data": {
      "image/png": "[encoded data removed]",
      "text/plain": [
       "<Figure size 432x288 with 1 Axes>"
      ]
     },
     "metadata": {},
     "output_type": "display_data"
    }
   ],
   "source": [
    "# Count of real and fake news\n",
    "print(df['Category'].value_counts())\n",
    "\n",
    "sns.countplot(x='Category',data=df)"
   ]
  },
  {
   "cell_type": "code",
   "execution_count": null,
   "id": "063a197c",
   "metadata": {},
   "outputs": [],
   "source": []
  },
  {
   "cell_type": "code",
   "execution_count": 76,
   "id": "655ce7c0",
   "metadata": {},
   "outputs": [],
   "source": [
    "df.isnull().sum()\n",
    "d=1.5"
   ]
  },
  {
   "cell_type": "code",
   "execution_count": 77,
   "id": "democratic-identifier",
   "metadata": {
    "execution": {
     "iopub.execute_input": "2021-06-21T06:11:25.227104Z",
     "iopub.status.busy": "2021-06-21T06:11:25.226341Z",
     "iopub.status.idle": "2021-06-21T06:11:25.230486Z",
     "shell.execute_reply": "2021-06-21T06:11:25.231018Z",
     "shell.execute_reply.started": "2021-06-21T04:52:00.374796Z"
    },
    "papermill": {
     "duration": 0.05664,
     "end_time": "2021-06-21T06:11:25.231234",
     "exception": false,
     "start_time": "2021-06-21T06:11:25.174594",
     "status": "completed"
    },
    "tags": []
   },
   "outputs": [
    {
     "data": {
      "text/plain": [
       "0"
      ]
     },
     "execution_count": 77,
     "metadata": {},
     "output_type": "execute_result"
    }
   ],
   "source": [
    "# Let's check if there is any null value in text column.\n",
    "df['Message'].isnull().sum()"
   ]
  },
  {
   "cell_type": "markdown",
   "id": "addressed-tyler",
   "metadata": {
    "papermill": {
     "duration": 0.035554,
     "end_time": "2021-06-21T06:11:25.302900",
     "exception": false,
     "start_time": "2021-06-21T06:11:25.267346",
     "status": "completed"
    },
    "tags": []
   },
   "source": [
    "**There is no null value.But there might be empty string, we will deal with it later**"
   ]
  },
  {
   "cell_type": "markdown",
   "id": "downtown-candy",
   "metadata": {
    "papermill": {
     "duration": 0.03555,
     "end_time": "2021-06-21T06:11:25.374638",
     "exception": false,
     "start_time": "2021-06-21T06:11:25.339088",
     "status": "completed"
    },
    "tags": []
   },
   "source": [
    "# Data Cleaning"
   ]
  },
  {
   "cell_type": "markdown",
   "id": "quarterly-vienna",
   "metadata": {
    "papermill": {
     "duration": 0.035312,
     "end_time": "2021-06-21T06:11:25.445692",
     "exception": false,
     "start_time": "2021-06-21T06:11:25.410380",
     "status": "completed"
    },
    "tags": []
   },
   "source": [
    "**URL**"
   ]
  },
  {
   "cell_type": "code",
   "execution_count": 78,
   "id": "viral-hospital",
   "metadata": {
    "execution": {
     "iopub.execute_input": "2021-06-21T06:11:25.521220Z",
     "iopub.status.busy": "2021-06-21T06:11:25.520385Z",
     "iopub.status.idle": "2021-06-21T06:11:25.525846Z",
     "shell.execute_reply": "2021-06-21T06:11:25.526366Z",
     "shell.execute_reply.started": "2021-06-21T04:54:36.568341Z"
    },
    "papermill": {
     "duration": 0.044986,
     "end_time": "2021-06-21T06:11:25.526576",
     "exception": false,
     "start_time": "2021-06-21T06:11:25.481590",
     "status": "completed"
    },
    "tags": []
   },
   "outputs": [
    {
     "data": {
      "text/plain": [
       "'Yup having my lunch buffet now.. U eat already?'"
      ]
     },
     "execution_count": 78,
     "metadata": {},
     "output_type": "execute_result"
    }
   ],
   "source": [
    "# Let's read one news\n",
    "df['Message'].iloc[390]"
   ]
  },
  {
   "cell_type": "markdown",
   "id": "binary-dancing",
   "metadata": {
    "papermill": {
     "duration": 0.036402,
     "end_time": "2021-06-21T06:11:25.598855",
     "exception": false,
     "start_time": "2021-06-21T06:11:25.562453",
     "status": "completed"
    },
    "tags": []
   },
   "source": [
    "**There might be a url provided in a news text which will not be useful as they provide no information in the form of text.We have to go to the url to obtain more information.Let's remove any url present in the text for all the news**"
   ]
  },
  {
   "cell_type": "code",
   "execution_count": 79,
   "id": "58f9c5b2",
   "metadata": {
    "execution": {
     "iopub.execute_input": "2021-06-21T06:11:25.675759Z",
     "iopub.status.busy": "2021-06-21T06:11:25.675014Z",
     "iopub.status.idle": "2021-06-21T06:11:33.740121Z",
     "shell.execute_reply": "2021-06-21T06:11:33.739508Z",
     "shell.execute_reply.started": "2021-06-21T05:00:23.667Z"
    },
    "papermill": {
     "duration": 8.105024,
     "end_time": "2021-06-21T06:11:33.740307",
     "exception": false,
     "start_time": "2021-06-21T06:11:25.635283",
     "status": "completed"
    },
    "tags": []
   },
   "outputs": [],
   "source": [
    "# Function to remove the url\n",
    "def remove_url(text):\n",
    "    text = text.split(' ')\n",
    "    text1 = ''\n",
    "    for word in text:\n",
    "        if ('.com' in word) or ('https' in word) or ('bit.ly' in word):\n",
    "            continue\n",
    "        else:\n",
    "            text1 += (word+' ')\n",
    "    return text1\n",
    "\n",
    "# Lets apply this on news text\n",
    "df['Message'] = df['Message'].apply(remove_url)"
   ]
  },
  {
   "cell_type": "markdown",
   "id": "laughing-slovak",
   "metadata": {
    "papermill": {
     "duration": 0.036835,
     "end_time": "2021-06-21T06:11:33.815289",
     "exception": false,
     "start_time": "2021-06-21T06:11:33.778454",
     "status": "completed"
    },
    "tags": []
   },
   "source": [
    "**Empty String**"
   ]
  },
  {
   "cell_type": "code",
   "execution_count": 80,
   "id": "8fd186ed",
   "metadata": {
    "execution": {
     "iopub.execute_input": "2021-06-21T06:11:33.928135Z",
     "iopub.status.busy": "2021-06-21T06:11:33.907393Z",
     "iopub.status.idle": "2021-06-21T06:11:34.003421Z",
     "shell.execute_reply": "2021-06-21T06:11:34.002268Z",
     "shell.execute_reply.started": "2021-06-21T05:05:14.056784Z"
    },
    "papermill": {
     "duration": 0.152379,
     "end_time": "2021-06-21T06:11:34.003700",
     "exception": false,
     "start_time": "2021-06-21T06:11:33.851321",
     "status": "completed"
    },
    "tags": []
   },
   "outputs": [
    {
     "name": "stdout",
     "output_type": "stream",
     "text": [
      "There are total 0 rows with empty string as df text\n"
     ]
    }
   ],
   "source": [
    "# Let's check if any news text is just an empty string\n",
    "\n",
    "# empty will hold the index of the empty string text\n",
    "empty = []\n",
    "\n",
    "# for loop to find the empty string\n",
    "for i,title,text,*_ in df.itertuples():\n",
    "    if text.isspace() or text=='':\n",
    "        empty.append(i)\n",
    "        \n",
    "# number of rows with empty string as form of news text\n",
    "print(f\"There are total {len(empty)} rows with empty string as df text\")\n",
    "a=1.6"
   ]
  },
  {
   "cell_type": "code",
   "execution_count": 81,
   "id": "07c2991b",
   "metadata": {
    "execution": {
     "iopub.execute_input": "2021-06-21T06:11:34.085770Z",
     "iopub.status.busy": "2021-06-21T06:11:34.084385Z",
     "iopub.status.idle": "2021-06-21T06:11:34.098114Z",
     "shell.execute_reply": "2021-06-21T06:11:34.097484Z",
     "shell.execute_reply.started": "2021-06-21T05:06:24.5275Z"
    },
    "papermill": {
     "duration": 0.055931,
     "end_time": "2021-06-21T06:11:34.098304",
     "exception": false,
     "start_time": "2021-06-21T06:11:34.042373",
     "status": "completed"
    },
    "tags": []
   },
   "outputs": [],
   "source": [
    "# Let's remove these empty strings\n",
    "df.drop(empty,inplace = True)"
   ]
  },
  {
   "cell_type": "markdown",
   "id": "metropolitan-premium",
   "metadata": {
    "papermill": {
     "duration": 0.035839,
     "end_time": "2021-06-21T06:11:34.172229",
     "exception": false,
     "start_time": "2021-06-21T06:11:34.136390",
     "status": "completed"
    },
    "tags": []
   },
   "source": [
    "**HTML tags**"
   ]
  },
  {
   "cell_type": "code",
   "execution_count": 82,
   "id": "electric-nature",
   "metadata": {
    "execution": {
     "iopub.execute_input": "2021-06-21T06:11:34.269246Z",
     "iopub.status.busy": "2021-06-21T06:11:34.267711Z",
     "iopub.status.idle": "2021-06-21T06:11:44.061342Z",
     "shell.execute_reply": "2021-06-21T06:11:44.060721Z",
     "shell.execute_reply.started": "2021-06-21T05:10:57.748004Z"
    },
    "papermill": {
     "duration": 9.853171,
     "end_time": "2021-06-21T06:11:44.061518",
     "exception": false,
     "start_time": "2021-06-21T06:11:34.208347",
     "status": "completed"
    },
    "tags": []
   },
   "outputs": [
    {
     "name": "stdout",
     "output_type": "stream",
     "text": [
      "Requirement already satisfied: beautifulsoup4 in c:\\users\\tru-pro\\anaconda3\\lib\\site-packages (4.9.3)\n",
      "Requirement already satisfied: soupsieve>1.2 in c:\\users\\tru-pro\\anaconda3\\lib\\site-packages (from beautifulsoup4) (2.2.1)\n",
      "Note: you may need to restart the kernel to use updated packages.\n"
     ]
    }
   ],
   "source": [
    "pip install beautifulsoup4"
   ]
  },
  {
   "cell_type": "code",
   "execution_count": 83,
   "id": "247a3b72",
   "metadata": {
    "execution": {
     "iopub.execute_input": "2021-06-21T06:11:44.145815Z",
     "iopub.status.busy": "2021-06-21T06:11:44.145035Z",
     "iopub.status.idle": "2021-06-21T06:11:56.663002Z",
     "shell.execute_reply": "2021-06-21T06:11:56.662220Z",
     "shell.execute_reply.started": "2021-06-21T05:11:17.016482Z"
    },
    "papermill": {
     "duration": 12.561082,
     "end_time": "2021-06-21T06:11:56.663169",
     "exception": false,
     "start_time": "2021-06-21T06:11:44.102087",
     "status": "completed"
    },
    "tags": []
   },
   "outputs": [],
   "source": [
    "# Let's remove any HTML tags present in news text\n",
    "# We can use BeautifulSoup to do it\n",
    "from bs4 import BeautifulSoup\n",
    "\n",
    "# function to remove the HTML tags\n",
    "def remove_html(text):\n",
    "    soup = BeautifulSoup(text)\n",
    "    text = soup.get_text()\n",
    "    \n",
    "    return text\n",
    "\n",
    "# Let's apply the above function on news text\n",
    "df['Message'] = df['Message'].apply(remove_html)"
   ]
  },
  {
   "cell_type": "code",
   "execution_count": 84,
   "id": "double-scenario",
   "metadata": {
    "execution": {
     "iopub.execute_input": "2021-06-21T06:11:56.750444Z",
     "iopub.status.busy": "2021-06-21T06:11:56.749773Z",
     "iopub.status.idle": "2021-06-21T06:11:56.759852Z",
     "shell.execute_reply": "2021-06-21T06:11:56.760603Z",
     "shell.execute_reply.started": "2021-06-21T05:12:02.607797Z"
    },
    "papermill": {
     "duration": 0.057812,
     "end_time": "2021-06-21T06:11:56.760879",
     "exception": false,
     "start_time": "2021-06-21T06:11:56.703067",
     "status": "completed"
    },
    "tags": []
   },
   "outputs": [
    {
     "data": {
      "text/plain": [
       "'Go until jurong point, crazy.. Available only in b'"
      ]
     },
     "execution_count": 84,
     "metadata": {},
     "output_type": "execute_result"
    }
   ],
   "source": [
    "# Let's read some more news\n",
    "df['Message'][0][:50]"
   ]
  },
  {
   "cell_type": "code",
   "execution_count": 85,
   "id": "consolidated-worship",
   "metadata": {
    "execution": {
     "iopub.execute_input": "2021-06-21T06:11:56.851186Z",
     "iopub.status.busy": "2021-06-21T06:11:56.850222Z",
     "iopub.status.idle": "2021-06-21T06:11:56.854989Z",
     "shell.execute_reply": "2021-06-21T06:11:56.854394Z",
     "shell.execute_reply.started": "2021-06-21T05:12:10.184891Z"
    },
    "papermill": {
     "duration": 0.05136,
     "end_time": "2021-06-21T06:11:56.855152",
     "exception": false,
     "start_time": "2021-06-21T06:11:56.803792",
     "status": "completed"
    },
    "tags": []
   },
   "outputs": [
    {
     "data": {
      "text/plain": [
       "'Even my brother is not like to speak with me. They'"
      ]
     },
     "execution_count": 85,
     "metadata": {},
     "output_type": "execute_result"
    }
   ],
   "source": [
    "df['Message'][6][:50]"
   ]
  },
  {
   "cell_type": "code",
   "execution_count": 86,
   "id": "marine-mouth",
   "metadata": {
    "execution": {
     "iopub.execute_input": "2021-06-21T06:11:56.944297Z",
     "iopub.status.busy": "2021-06-21T06:11:56.942294Z",
     "iopub.status.idle": "2021-06-21T06:11:57.182595Z",
     "shell.execute_reply": "2021-06-21T06:11:57.181851Z",
     "shell.execute_reply.started": "2021-06-21T05:14:11.710981Z"
    },
    "papermill": {
     "duration": 0.287196,
     "end_time": "2021-06-21T06:11:57.182785",
     "exception": false,
     "start_time": "2021-06-21T06:11:56.895589",
     "status": "completed"
    },
    "tags": []
   },
   "outputs": [],
   "source": [
    "# WASHINGTON (Reuters) or SEATTLE/WASHINGTON (Reuters) are there at the begining of many news text.\n",
    "# Our model might learn that if these words are at the begining of the news text,they must belong to one category and might \n",
    "# not try to learn from the text that follows.\n",
    "\n",
    "# Let's go ahead and remove these words from the news text\n",
    "# we will split the text on the basis of (Reuters) and ignore the first part\n",
    "\n",
    "# function to perform the split\n",
    "def split_news(text):\n",
    "    if '(Reuters)' in text:\n",
    "        text = text.split('(Reuters)')\n",
    "\n",
    "        return ' '.join(text[1:])\n",
    "    return text\n",
    "\n",
    "# Applying the above function on the news text\n",
    "df['Message'] = df['Message'].apply(split_news)"
   ]
  },
  {
   "cell_type": "markdown",
   "id": "surprised-nepal",
   "metadata": {
    "papermill": {
     "duration": 0.039807,
     "end_time": "2021-06-21T06:11:57.262910",
     "exception": false,
     "start_time": "2021-06-21T06:11:57.223103",
     "status": "completed"
    },
    "tags": []
   },
   "source": [
    "**Punctuation**"
   ]
  },
  {
   "cell_type": "code",
   "execution_count": 87,
   "id": "flying-relations",
   "metadata": {
    "execution": {
     "iopub.execute_input": "2021-06-21T06:11:57.373618Z",
     "iopub.status.busy": "2021-06-21T06:11:57.368528Z",
     "iopub.status.idle": "2021-06-21T06:12:02.310659Z",
     "shell.execute_reply": "2021-06-21T06:12:02.309997Z",
     "shell.execute_reply.started": "2021-06-21T05:20:10.19906Z"
    },
    "papermill": {
     "duration": 5.007787,
     "end_time": "2021-06-21T06:12:02.310869",
     "exception": false,
     "start_time": "2021-06-21T06:11:57.303082",
     "status": "completed"
    },
    "tags": []
   },
   "outputs": [],
   "source": [
    "# Let's remove the punctuations from the news text\n",
    "#import string\n",
    "\n",
    "#punctuations = string.punctuation\n",
    "\n",
    "# Lets add '\\n','\\n\\n' and ' ' in punctuations\n",
    "#punctuations += '\\n \\n\\n'\n",
    "\n",
    "#function to remove the punctuations\n",
    "#def remove_punct(text):\n",
    "#    text = text.split(' ')\n",
    "#    text  = [word.lower() for word in text if word not in punctuations]\n",
    "    \n",
    "#    return ' '.join(text)\n",
    "\n",
    "# applying the above function in news text\n",
    "#news['text'] = news['text'].apply(remove_punct)"
   ]
  },
  {
   "cell_type": "markdown",
   "id": "after-president",
   "metadata": {
    "papermill": {
     "duration": 0.040484,
     "end_time": "2021-06-21T06:12:02.395548",
     "exception": false,
     "start_time": "2021-06-21T06:12:02.355064",
     "status": "completed"
    },
    "tags": []
   },
   "source": [
    "**Let's divide the data into X and y. X will be news text and y would be label- Fake or Real.**"
   ]
  },
  {
   "cell_type": "code",
   "execution_count": 88,
   "id": "breathing-bhutan",
   "metadata": {
    "execution": {
     "iopub.execute_input": "2021-06-21T06:12:02.488325Z",
     "iopub.status.busy": "2021-06-21T06:12:02.486965Z",
     "iopub.status.idle": "2021-06-21T06:12:02.496645Z",
     "shell.execute_reply": "2021-06-21T06:12:02.497182Z",
     "shell.execute_reply.started": "2021-06-21T05:27:50.470171Z"
    },
    "papermill": {
     "duration": 0.06168,
     "end_time": "2021-06-21T06:12:02.497425",
     "exception": false,
     "start_time": "2021-06-21T06:12:02.435745",
     "status": "completed"
    },
    "tags": []
   },
   "outputs": [],
   "source": [
    "X = df['Message']\n",
    "y = df['Category']\n",
    "\n",
    "# Lets do the one hot encoding to convet y\n",
    "encoded_y = pd.get_dummies(y,drop_first=True)"
   ]
  },
  {
   "cell_type": "markdown",
   "id": "digital-giant",
   "metadata": {
    "papermill": {
     "duration": 0.039761,
     "end_time": "2021-06-21T06:12:02.582073",
     "exception": false,
     "start_time": "2021-06-21T06:12:02.542312",
     "status": "completed"
    },
    "tags": []
   },
   "source": [
    "**1 in encoded_y means Real news and 0 means Fake news**"
   ]
  },
  {
   "cell_type": "code",
   "execution_count": 89,
   "id": "illegal-fairy",
   "metadata": {
    "execution": {
     "iopub.execute_input": "2021-06-21T06:12:02.670586Z",
     "iopub.status.busy": "2021-06-21T06:12:02.669622Z",
     "iopub.status.idle": "2021-06-21T06:12:03.231188Z",
     "shell.execute_reply": "2021-06-21T06:12:03.230517Z",
     "shell.execute_reply.started": "2021-06-21T05:50:17.656548Z"
    },
    "papermill": {
     "duration": 0.608121,
     "end_time": "2021-06-21T06:12:03.231377",
     "exception": false,
     "start_time": "2021-06-21T06:12:02.623256",
     "status": "completed"
    },
    "tags": []
   },
   "outputs": [],
   "source": [
    "# Libraries to split the data into train and test data,create maodel and evaluating the matrix\n",
    "from sklearn.model_selection import train_test_split\n",
    "from sklearn.feature_extraction.text import TfidfVectorizer\n",
    "from sklearn.pipeline import Pipeline\n",
    "from sklearn.linear_model import LogisticRegression\n",
    "from sklearn.naive_bayes import MultinomialNB\n",
    "from sklearn.svm import LinearSVC\n",
    "from sklearn.metrics import accuracy_score,classification_report,recall_score,precision_score,f1_score"
   ]
  },
  {
   "cell_type": "code",
   "execution_count": 90,
   "id": "first-keeping",
   "metadata": {
    "execution": {
     "iopub.execute_input": "2021-06-21T06:12:03.317518Z",
     "iopub.status.busy": "2021-06-21T06:12:03.316798Z",
     "iopub.status.idle": "2021-06-21T06:12:03.332563Z",
     "shell.execute_reply": "2021-06-21T06:12:03.331916Z",
     "shell.execute_reply.started": "2021-06-21T05:50:30.940096Z"
    },
    "papermill": {
     "duration": 0.05998,
     "end_time": "2021-06-21T06:12:03.332749",
     "exception": false,
     "start_time": "2021-06-21T06:12:03.272769",
     "status": "completed"
    },
    "tags": []
   },
   "outputs": [],
   "source": [
    "# Lets split the data into train and test data. We will use 25% of the data as test data\n",
    "#X_train,X_test,y_train,y_test = train_test_split(X,encoded_y.values.reshape(-1,),test_size=0.25,random_state=0)"
   ]
  },
  {
   "cell_type": "code",
   "execution_count": 91,
   "id": "bb2be591",
   "metadata": {},
   "outputs": [],
   "source": [
    "X_train, X_test, y_train, y_test = train_test_split(df['Message'], df['Category'], test_size = 0.3, random_state= 0)"
   ]
  },
  {
   "cell_type": "markdown",
   "id": "minimal-packet",
   "metadata": {
    "papermill": {
     "duration": 0.040318,
     "end_time": "2021-06-21T06:12:03.413395",
     "exception": false,
     "start_time": "2021-06-21T06:12:03.373077",
     "status": "completed"
    },
    "tags": []
   },
   "source": [
    "**Naive_bayes model**"
   ]
  },
  {
   "cell_type": "code",
   "execution_count": 92,
   "id": "fourth-bathroom",
   "metadata": {
    "execution": {
     "iopub.execute_input": "2021-06-21T06:12:03.499770Z",
     "iopub.status.busy": "2021-06-21T06:12:03.499073Z",
     "iopub.status.idle": "2021-06-21T06:12:19.736979Z",
     "shell.execute_reply": "2021-06-21T06:12:19.736413Z",
     "shell.execute_reply.started": "2021-06-21T05:50:33.734525Z"
    },
    "papermill": {
     "duration": 16.281857,
     "end_time": "2021-06-21T06:12:19.737166",
     "exception": false,
     "start_time": "2021-06-21T06:12:03.455309",
     "status": "completed"
    },
    "tags": []
   },
   "outputs": [
    {
     "data": {
      "text/plain": [
       "Pipeline(steps=[('vector', TfidfVectorizer(stop_words='english')),\n",
       "                ('classifier', MultinomialNB())])"
      ]
     },
     "execution_count": 92,
     "metadata": {},
     "output_type": "execute_result"
    }
   ],
   "source": [
    "# creating a naive model\n",
    "pipeline_naive = Pipeline([\n",
    "    ('vector',TfidfVectorizer(stop_words='english')),\n",
    "    ('classifier',MultinomialNB())\n",
    "])\n",
    "\n",
    "# training the model\n",
    "pipeline_naive.fit(X_train,y_train)"
   ]
  },
  {
   "cell_type": "code",
   "execution_count": 93,
   "id": "secret-pennsylvania",
   "metadata": {
    "execution": {
     "iopub.execute_input": "2021-06-21T06:12:19.864459Z",
     "iopub.status.busy": "2021-06-21T06:12:19.858983Z",
     "iopub.status.idle": "2021-06-21T06:12:24.989464Z",
     "shell.execute_reply": "2021-06-21T06:12:24.990072Z",
     "shell.execute_reply.started": "2021-06-21T05:50:48.381944Z"
    },
    "papermill": {
     "duration": 5.21255,
     "end_time": "2021-06-21T06:12:24.990284",
     "exception": false,
     "start_time": "2021-06-21T06:12:19.777734",
     "status": "completed"
    },
    "tags": []
   },
   "outputs": [],
   "source": [
    "# prediction\n",
    "predict_naive = pipeline_naive.predict(X_test)"
   ]
  },
  {
   "cell_type": "code",
   "execution_count": 94,
   "id": "surprising-louisiana",
   "metadata": {
    "execution": {
     "iopub.execute_input": "2021-06-21T06:12:25.077075Z",
     "iopub.status.busy": "2021-06-21T06:12:25.075964Z",
     "iopub.status.idle": "2021-06-21T06:12:25.106930Z",
     "shell.execute_reply": "2021-06-21T06:12:25.105824Z",
     "shell.execute_reply.started": "2021-06-21T05:58:49.373471Z"
    },
    "papermill": {
     "duration": 0.075293,
     "end_time": "2021-06-21T06:12:25.107185",
     "exception": false,
     "start_time": "2021-06-21T06:12:25.031892",
     "status": "completed"
    },
    "tags": []
   },
   "outputs": [
    {
     "name": "stdout",
     "output_type": "stream",
     "text": [
      "Naive model has 97.0% accuracy\n",
      "\n",
      "\n"
     ]
    }
   ],
   "source": [
    "# Evaluating the naive model\n",
    "acc_naive = accuracy_score(y_test,predict_naive)\n",
    "print(f'Naive model has {acc_naive.round(2)*100}% accuracy')\n",
    "print('\\n')\n",
    "#print(classification_report(y_test,predict_naive))\n",
    "\n"
   ]
  },
  {
   "cell_type": "markdown",
   "id": "lovely-briefing",
   "metadata": {
    "papermill": {
     "duration": 0.040275,
     "end_time": "2021-06-21T06:12:25.190196",
     "exception": false,
     "start_time": "2021-06-21T06:12:25.149921",
     "status": "completed"
    },
    "tags": []
   },
   "source": [
    "**Logistic Regression Model**"
   ]
  },
  {
   "cell_type": "code",
   "execution_count": 95,
   "id": "republican-trance",
   "metadata": {
    "execution": {
     "iopub.execute_input": "2021-06-21T06:12:25.296502Z",
     "iopub.status.busy": "2021-06-21T06:12:25.280729Z",
     "iopub.status.idle": "2021-06-21T06:12:48.285610Z",
     "shell.execute_reply": "2021-06-21T06:12:48.283725Z",
     "shell.execute_reply.started": "2021-06-21T05:51:57.845733Z"
    },
    "papermill": {
     "duration": 23.054961,
     "end_time": "2021-06-21T06:12:48.285939",
     "exception": false,
     "start_time": "2021-06-21T06:12:25.230978",
     "status": "completed"
    },
    "tags": []
   },
   "outputs": [
    {
     "data": {
      "text/plain": [
       "Pipeline(steps=[('vector', TfidfVectorizer(stop_words='english')),\n",
       "                ('classifier', LogisticRegression())])"
      ]
     },
     "execution_count": 95,
     "metadata": {},
     "output_type": "execute_result"
    }
   ],
   "source": [
    "# creating a logistic model\n",
    "pipeline_logistic = Pipeline([\n",
    "    ('vector',TfidfVectorizer(stop_words='english')),\n",
    "    ('classifier',LogisticRegression())\n",
    "])\n",
    "\n",
    "# training the model\n",
    "pipeline_logistic.fit(X_train,y_train)"
   ]
  },
  {
   "cell_type": "code",
   "execution_count": 96,
   "id": "removed-passage",
   "metadata": {
    "execution": {
     "iopub.execute_input": "2021-06-21T06:12:48.448238Z",
     "iopub.status.busy": "2021-06-21T06:12:48.422440Z",
     "iopub.status.idle": "2021-06-21T06:12:53.532799Z",
     "shell.execute_reply": "2021-06-21T06:12:53.531647Z",
     "shell.execute_reply.started": "2021-06-21T05:52:33.279523Z"
    },
    "papermill": {
     "duration": 5.176504,
     "end_time": "2021-06-21T06:12:53.532986",
     "exception": false,
     "start_time": "2021-06-21T06:12:48.356482",
     "status": "completed"
    },
    "tags": []
   },
   "outputs": [],
   "source": [
    "# prediction\n",
    "predict_logistic = pipeline_logistic.predict(X_test)"
   ]
  },
  {
   "cell_type": "code",
   "execution_count": 97,
   "id": "elegant-melbourne",
   "metadata": {
    "execution": {
     "iopub.execute_input": "2021-06-21T06:12:53.622323Z",
     "iopub.status.busy": "2021-06-21T06:12:53.621538Z",
     "iopub.status.idle": "2021-06-21T06:12:53.648083Z",
     "shell.execute_reply": "2021-06-21T06:12:53.649032Z",
     "shell.execute_reply.started": "2021-06-21T05:59:01.974774Z"
    },
    "papermill": {
     "duration": 0.075508,
     "end_time": "2021-06-21T06:12:53.649464",
     "exception": false,
     "start_time": "2021-06-21T06:12:53.573956",
     "status": "completed"
    },
    "tags": []
   },
   "outputs": [
    {
     "name": "stdout",
     "output_type": "stream",
     "text": [
      "LogisticRegression model has 96.0% accuracy\n",
      "\n",
      "\n"
     ]
    }
   ],
   "source": [
    "# Evaluating the logistic model\n",
    "acc_logistic = accuracy_score(y_test,predict_logistic)\n",
    "print(f'LogisticRegression model has {acc_logistic.round(2)*100}% accuracy')\n",
    "print('\\n')\n",
    "#print(classification_report(y_test,predict_logistic))"
   ]
  },
  {
   "cell_type": "markdown",
   "id": "casual-cause",
   "metadata": {
    "papermill": {
     "duration": 0.040676,
     "end_time": "2021-06-21T06:12:53.732245",
     "exception": false,
     "start_time": "2021-06-21T06:12:53.691569",
     "status": "completed"
    },
    "tags": []
   },
   "source": [
    "**LinearSVC model**"
   ]
  },
  {
   "cell_type": "code",
   "execution_count": 98,
   "id": "honey-imperial",
   "metadata": {
    "execution": {
     "iopub.execute_input": "2021-06-21T06:12:53.822283Z",
     "iopub.status.busy": "2021-06-21T06:12:53.821494Z",
     "iopub.status.idle": "2021-06-21T06:13:10.870016Z",
     "shell.execute_reply": "2021-06-21T06:13:10.869439Z",
     "shell.execute_reply.started": "2021-06-21T05:55:32.994257Z"
    },
    "papermill": {
     "duration": 17.094312,
     "end_time": "2021-06-21T06:13:10.870196",
     "exception": false,
     "start_time": "2021-06-21T06:12:53.775884",
     "status": "completed"
    },
    "tags": []
   },
   "outputs": [
    {
     "data": {
      "text/plain": [
       "Pipeline(steps=[('vector', TfidfVectorizer(stop_words='english')),\n",
       "                ('classifier', LinearSVC())])"
      ]
     },
     "execution_count": 98,
     "metadata": {},
     "output_type": "execute_result"
    }
   ],
   "source": [
    "# creating a LinearSVC model\n",
    "pipeline_svc = Pipeline([\n",
    "    ('vector',TfidfVectorizer(stop_words='english')),\n",
    "    ('classifier',LinearSVC())\n",
    "])\n",
    "\n",
    "# training the model\n",
    "pipeline_svc.fit(X_train,y_train)"
   ]
  },
  {
   "cell_type": "code",
   "execution_count": 99,
   "id": "cloudy-wound",
   "metadata": {
    "execution": {
     "iopub.execute_input": "2021-06-21T06:13:10.973607Z",
     "iopub.status.busy": "2021-06-21T06:13:10.968383Z",
     "iopub.status.idle": "2021-06-21T06:13:16.028594Z",
     "shell.execute_reply": "2021-06-21T06:13:16.027992Z",
     "shell.execute_reply.started": "2021-06-21T05:56:30.592584Z"
    },
    "papermill": {
     "duration": 5.116528,
     "end_time": "2021-06-21T06:13:16.028800",
     "exception": false,
     "start_time": "2021-06-21T06:13:10.912272",
     "status": "completed"
    },
    "tags": []
   },
   "outputs": [],
   "source": [
    "# prediction\n",
    "predict_svc = pipeline_svc.predict(X_test)"
   ]
  },
  {
   "cell_type": "code",
   "execution_count": 100,
   "id": "loved-aruba",
   "metadata": {
    "execution": {
     "iopub.execute_input": "2021-06-21T06:13:16.119332Z",
     "iopub.status.busy": "2021-06-21T06:13:16.118610Z",
     "iopub.status.idle": "2021-06-21T06:13:16.146436Z",
     "shell.execute_reply": "2021-06-21T06:13:16.145376Z",
     "shell.execute_reply.started": "2021-06-21T05:59:15.887416Z"
    },
    "papermill": {
     "duration": 0.075309,
     "end_time": "2021-06-21T06:13:16.146689",
     "exception": false,
     "start_time": "2021-06-21T06:13:16.071380",
     "status": "completed"
    },
    "tags": []
   },
   "outputs": [
    {
     "name": "stdout",
     "output_type": "stream",
     "text": [
      "LinearSVC model has 99.0% accuracy\n",
      "\n",
      "\n"
     ]
    }
   ],
   "source": [
    "# Evaluating the LinearSVC model\n",
    "acc_svc = accuracy_score(y_test,predict_svc)\n",
    "print(f'LinearSVC model has {acc_svc.round(2)*100}% accuracy')\n",
    "print('\\n')\n",
    "#print(classification_report(y_test,predict_svc))"
   ]
  },
  {
   "cell_type": "code",
   "execution_count": 101,
   "id": "tough-detective",
   "metadata": {
    "execution": {
     "iopub.execute_input": "2021-06-21T06:13:16.259818Z",
     "iopub.status.busy": "2021-06-21T06:13:16.257206Z",
     "iopub.status.idle": "2021-06-21T06:13:16.393528Z",
     "shell.execute_reply": "2021-06-21T06:13:16.392932Z",
     "shell.execute_reply.started": "2021-06-21T06:03:09.342718Z"
    },
    "papermill": {
     "duration": 0.203443,
     "end_time": "2021-06-21T06:13:16.393718",
     "exception": false,
     "start_time": "2021-06-21T06:13:16.190275",
     "status": "completed"
    },
    "tags": []
   },
   "outputs": [
    {
     "data": {
      "text/plain": [
       "Text(0, 0.5, 'Accuracy')"
      ]
     },
     "execution_count": 101,
     "metadata": {},
     "output_type": "execute_result"
    },
    {
     "data": {
      "image/png": "[encoded data removed]",
      "text/plain": [
       "<Figure size 432x288 with 1 Axes>"
      ]
     },
     "metadata": {},
     "output_type": "display_data"
    }
   ],
   "source": [
    "# Let's visualize the accuracy of all the three models\n",
    "models = {\n",
    "    'Naive':acc_naive,\n",
    "    'Logistic':acc_logistic,\n",
    "    'SVC':acc_svc\n",
    "}\n",
    "\n",
    "sns.set_style('darkgrid')\n",
    "plt.plot(models.keys(),models.values(),marker='*',color='blue',markeredgecolor='red',markeredgewidth=4)\n",
    "plt.xlabel('Models')\n",
    "plt.ylabel('Accuracy')"
   ]
  },
  {
   "cell_type": "code",
   "execution_count": 102,
   "id": "141df45a",
   "metadata": {},
   "outputs": [],
   "source": [
    "\n",
    "from sklearn.model_selection import train_test_split\n",
    "from sklearn.pipeline import Pipeline\n",
    "from sklearn.linear_model import LogisticRegression\n",
    "from sklearn.neighbors import KNeighborsClassifier\n",
    "from sklearn.tree import DecisionTreeClassifier\n",
    "from sklearn.ensemble import RandomForestClassifier,GradientBoostingClassifier\n",
    "from sklearn.metrics import accuracy_score, confusion_matrix, classification_report\n",
    "from sklearn.feature_extraction.text import TfidfVectorizer"
   ]
  },
  {
   "cell_type": "code",
   "execution_count": 103,
   "id": "ee308776",
   "metadata": {},
   "outputs": [],
   "source": [
    "#modeling\n",
    "def get_prediction(vectorizer, classifier, X_train, X_test, y_train, y_test):\n",
    "    pipe = Pipeline([('vector', vectorizer),\n",
    "                    ('model', classifier)])\n",
    "    model = pipe.fit(X_train, y_train)\n",
    "    y_pred = model.predict(X_test)\n",
    "    print(\"Accuarcy: {}\".format(round(accuracy_score(y_test, y_pred)*100,2)))\n",
    "    cm = confusion_matrix(y_test, y_pred)\n",
    "    print(\"Confusion Matrix: \\n\", cm)"
   ]
  },
  {
   "cell_type": "code",
   "execution_count": 104,
   "id": "9d1598c8",
   "metadata": {},
   "outputs": [
    {
     "name": "stdout",
     "output_type": "stream",
     "text": [
      "\n",
      "\n",
      " LogisticRegression()\n",
      "Accuarcy: 96.89\n",
      "Confusion Matrix: \n",
      " [[1449    2]\n",
      " [  50  171]]\n",
      "\n",
      "\n",
      " KNeighborsClassifier()\n",
      "Accuarcy: 96.29\n",
      "Confusion Matrix: \n",
      " [[1451    0]\n",
      " [  62  159]]\n",
      "\n",
      "\n",
      " DecisionTreeClassifier()\n",
      "Accuarcy: 96.17\n",
      "Confusion Matrix: \n",
      " [[1429   22]\n",
      " [  42  179]]\n",
      "\n",
      "\n",
      " GradientBoostingClassifier()\n",
      "Accuarcy: 96.95\n",
      "Confusion Matrix: \n",
      " [[1444    7]\n",
      " [  44  177]]\n",
      "\n",
      "\n",
      " RandomForestClassifier()\n",
      "Accuarcy: 97.73\n",
      "Confusion Matrix: \n",
      " [[1451    0]\n",
      " [  38  183]]\n",
      "\n",
      "\n",
      " MultinomialNB()\n",
      "Accuarcy: 95.93\n",
      "Confusion Matrix: \n",
      " [[1451    0]\n",
      " [  68  153]]\n",
      "\n",
      "\n",
      " LinearSVC()\n",
      "Accuarcy: 98.86\n",
      "Confusion Matrix: \n",
      " [[1450    1]\n",
      " [  18  203]]\n"
     ]
    }
   ],
   "source": [
    "\n",
    "X_train, X_test, y_train, y_test = train_test_split(df['Message'], df['Category'], test_size = 0.3, random_state= 0)\n",
    "\n",
    "classifiers = [LogisticRegression(),KNeighborsClassifier(n_neighbors=5), DecisionTreeClassifier(), GradientBoostingClassifier(), \n",
    "               RandomForestClassifier(),MultinomialNB(),LinearSVC()]\n",
    "for classifier in classifiers:\n",
    "    print(\"\\n\\n\", classifier)\n",
    "    get_prediction(TfidfVectorizer(), classifier, X_train, X_test, y_train, y_test)"
   ]
  },
  {
   "cell_type": "markdown",
   "id": "sixth-ghost",
   "metadata": {
    "papermill": {
     "duration": 0.043332,
     "end_time": "2021-06-21T06:13:16.480467",
     "exception": false,
     "start_time": "2021-06-21T06:13:16.437135",
     "status": "completed"
    },
    "tags": []
   },
   "source": [
    "# Optimized With Bio-Inspired Metaheuristic Algorithms\n"
   ]
  },
  {
   "cell_type": "code",
   "execution_count": null,
   "id": "7af4fb2d",
   "metadata": {},
   "outputs": [],
   "source": []
  },
  {
   "cell_type": "code",
   "execution_count": 105,
   "id": "subtle-condition",
   "metadata": {
    "papermill": {
     "duration": 0.043448,
     "end_time": "2021-06-21T06:13:16.567500",
     "exception": false,
     "start_time": "2021-06-21T06:13:16.524052",
     "status": "completed"
    },
    "tags": []
   },
   "outputs": [],
   "source": [
    "from sklearn import svm\n",
    "#from sklearn.model_selection import GridSearchCV\n",
    "from genetic_selection import GeneticSelectionCV"
   ]
  },
  {
   "cell_type": "code",
   "execution_count": 106,
   "id": "84f19de0",
   "metadata": {},
   "outputs": [
    {
     "data": {
      "text/plain": [
       "array([[0., 0., 0., ..., 0., 0., 0.],\n",
       "       [0., 0., 0., ..., 0., 0., 0.],\n",
       "       [0., 0., 0., ..., 0., 0., 0.],\n",
       "       ...,\n",
       "       [0., 0., 0., ..., 0., 0., 0.],\n",
       "       [0., 0., 0., ..., 0., 0., 0.],\n",
       "       [0., 0., 0., ..., 0., 0., 0.]])"
      ]
     },
     "execution_count": 106,
     "metadata": {},
     "output_type": "execute_result"
    }
   ],
   "source": [
    "\n",
    "tfidf = TfidfVectorizer()\n",
    "x = tfidf.fit_transform(df[\"Message\"])\n",
    "\n",
    "\n",
    "X1 = x.toarray()\n",
    "X1"
   ]
  },
  {
   "cell_type": "code",
   "execution_count": 107,
   "id": "be517ac9",
   "metadata": {},
   "outputs": [],
   "source": [
    "X_train, X_test, y_train, y_test = train_test_split(X1,y, test_size = 0.3, random_state= 0)"
   ]
  },
  {
   "cell_type": "code",
   "execution_count": 108,
   "id": "d84ca43d",
   "metadata": {},
   "outputs": [],
   "source": [
    "estimator = svm.SVC(C=2.0,gamma='scale',kernel = 'rbf', random_state = 0)"
   ]
  },
  {
   "cell_type": "code",
   "execution_count": 109,
   "id": "0cad7ca0",
   "metadata": {},
   "outputs": [],
   "source": [
    "selector = GeneticSelectionCV(estimator,\n",
    "                                  cv=5,\n",
    "                                  verbose=1,\n",
    "                                  scoring=\"accuracy\",\n",
    "                                  max_features=10,\n",
    "                                  n_population=50,\n",
    "                                  crossover_proba=0.5,\n",
    "                                  mutation_proba=0.2,\n",
    "                                  n_generations=200,\n",
    "                                  crossover_independent_proba=0.5,\n",
    "                                  mutation_independent_proba=0.05,\n",
    "                                  tournament_size=3,\n",
    "                                  n_gen_no_change=10,\n",
    "                                  caching=True,\n",
    "                                  n_jobs=-1)"
   ]
  },
  {
   "cell_type": "code",
   "execution_count": null,
   "id": "f51c0b6f",
   "metadata": {},
   "outputs": [],
   "source": []
  },
  {
   "cell_type": "code",
   "execution_count": 110,
   "id": "ed58da42",
   "metadata": {},
   "outputs": [
    {
     "name": "stdout",
     "output_type": "stream",
     "text": [
      "Selecting features with genetic algorithm.\n",
      "gen\tnevals\tavg                    \tstd                            \tmin                    \tmax                      \n",
      "0  \t50    \t[0.86581026 5.2       ]\t[2.37486842e-03 2.99332591e+00]\t[0.86410256 1.        ]\t[ 0.87692308 10.        ]\n",
      "1  \t25    \t[-2199.32385128    96.94      ]\t[4142.82212789  172.27413155]  \t[-1.e+04  1.e+00]      \t[  0.87692308 446.        ]\n",
      "2  \t31    \t[-1799.28789744    74.86      ]\t[3842.20817767  156.70494695]  \t[-1.e+04  1.e+00]      \t[  0.88769231 458.        ]\n",
      "3  \t21    \t[-1999.30260513    92.96      ]\t[4000.34869744  173.8650005 ]  \t[-1.e+04  1.e+00]      \t[  0.88769231 471.        ]\n",
      "4  \t33    \t[-2599.35141538   109.56      ]\t[4386.72688777  183.13843507]  \t[-1.e+04  2.e+00]      \t[  0.88769231 464.        ]\n",
      "5  \t29    \t[-2199.31307692   103.28      ]\t[4142.82784999  181.1671096 ]  \t[-1.e+04  2.e+00]      \t[  0.88897436 468.        ]\n",
      "6  \t23    \t[-1799.27472308    86.        ]\t[3842.21435014  167.99797618]  \t[-1.e+04  4.e+00]      \t[  0.88897436 488.        ]\n",
      "7  \t36    \t[-2599.343   119.66 ]          \t[4386.73187597  189.00768344]  \t[-1.e+04  6.e+00]      \t[  0.88923077 471.        ]\n",
      "8  \t31    \t[-2599.34271795   112.74      ]\t[4386.73204316  181.86828311]  \t[-1.e+04  6.e+00]      \t[  0.88923077 476.        ]\n",
      "9  \t29    \t[-2599.34245641   114.98      ]\t[4386.73219818  182.85168744]  \t[-1.e+04  6.e+00]      \t[  0.88923077 459.        ]\n",
      "10 \t32    \t[-2199.30661538    85.2       ]\t[4142.83128161  153.79531852]  \t[-1.e+04  6.e+00]      \t[  0.88923077 454.        ]\n",
      "11 \t22    \t[-2599.34197949   119.46      ]\t[4386.73248088  187.78436676]  \t[-1.e+04  6.e+00]      \t[  0.88923077 473.        ]\n",
      "12 \t30    \t[-1399.23528205    67.9       ]\t[3470.17885785  148.72366994]  \t[-1.e+04  6.e+00]      \t[  0.88923077 484.        ]\n",
      "13 \t30    \t[-1799.27083077    84.04      ]\t[3842.21617377  163.45898079]  \t[-1.e+04  7.e+00]      \t[  0.88923077 454.        ]\n",
      "14 \t22    \t[-2199.3064   102.92  ]        \t[4142.831396    180.63729847]  \t[-1.e+04  7.e+00]      \t[  0.88923077 473.        ]\n",
      "15 \t30    \t[-2199.3064    94.08  ]        \t[4142.831396    169.50561525]  \t[-1.e+04  7.e+00]      \t[  0.88923077 466.        ]\n",
      "16 \t26    \t[-1199.21747692    53.42      ]\t[3249.90432765  129.06712827]  \t[-1.e+04  7.e+00]      \t[  0.88923077 468.        ]\n",
      "17 \t32    \t[-1999.28861538    94.        ]\t[4000.35569231  174.13822096]  \t[-1.e+04  7.e+00]      \t[  0.88923077 465.        ]\n",
      "18 \t28    \t[-2399.32418462   103.02      ]\t[4271.21107627  176.38406844]  \t[-1.e+04  7.e+00]      \t[  0.88923077 493.        ]\n",
      "19 \t31    \t[-1599.25304615    82.74      ]\t[3666.38655335  176.70028976]  \t[-1.e+04  7.e+00]      \t[  0.88923077 643.        ]\n"
     ]
    },
    {
     "data": {
      "text/plain": [
       "GeneticSelectionCV(caching=True, crossover_independent_proba=0.5, cv=5,\n",
       "                   estimator=SVC(C=2.0, random_state=0), max_features=10,\n",
       "                   n_gen_no_change=10, n_generations=200, n_jobs=-1,\n",
       "                   n_population=50, scoring='accuracy', verbose=1)"
      ]
     },
     "execution_count": 110,
     "metadata": {},
     "output_type": "execute_result"
    }
   ],
   "source": [
    "\n",
    "# training the model\n",
    "selector.fit(X_train,y_train)"
   ]
  },
  {
   "cell_type": "code",
   "execution_count": 111,
   "id": "4f5a17d0",
   "metadata": {},
   "outputs": [],
   "source": [
    "y_pred = selector.predict(X_test)"
   ]
  },
  {
   "cell_type": "code",
   "execution_count": 112,
   "id": "6217b646",
   "metadata": {},
   "outputs": [],
   "source": [
    "acc_svm1 = accuracy_score(y_test,y_pred)"
   ]
  },
  {
   "cell_type": "code",
   "execution_count": 113,
   "id": "38436369",
   "metadata": {},
   "outputs": [
    {
     "name": "stdout",
     "output_type": "stream",
     "text": [
      "LinearSVC model has 89.05502392344498% accuracy\n",
      "\n",
      "\n"
     ]
    }
   ],
   "source": [
    "print(f'LinearSVC model has {acc_svm1*100}% accuracy')\n",
    "print('\\n')"
   ]
  },
  {
   "cell_type": "code",
   "execution_count": 114,
   "id": "4c957f43",
   "metadata": {},
   "outputs": [
    {
     "name": "stdout",
     "output_type": "stream",
     "text": [
      "Selecting features with genetic algorithm.\n",
      "gen\tnevals\tavg                    \tstd                            \tmin                    \tmax                      \n",
      "0  \t50    \t[0.86512821 5.94      ]\t[4.44089210e-16 2.84541737e+00]\t[0.86512821 1.        ]\t[ 0.86512821 10.        ]\n",
      "1  \t29    \t[-2399.34250256   107.16      ]\t[4271.20078247  184.34330582]  \t[-1.e+04  1.e+00]      \t[  0.86512821 471.        ]\n",
      "2  \t33    \t[-2199.3252    88.56  ]        \t[4142.8214116  172.8115922]    \t[-10000.      0.]      \t[  0.86512821 464.        ]\n",
      "3  \t32    \t[-2999.39441026   116.54      ]\t[4582.9721465   189.54305157]  \t[-10000.      0.]      \t[  0.86512821 469.        ]\n",
      "4  \t26    \t[-3399.42901538   113.8       ]\t[4737.49753175  188.41220767]  \t[-10000.      0.]      \t[  0.86512821 511.        ]\n",
      "5  \t17    \t[-1199.23868718    51.78      ]\t[3249.89649524  137.40280783]  \t[-1.e+04  1.e+00]      \t[  0.86512821 448.        ]\n",
      "6  \t27    \t[-2799.37710769   107.96      ]\t[4490.37730573  190.56200671]  \t[-10000.      0.]      \t[  0.86512821 488.        ]\n",
      "7  \t33    \t[-4799.55013333   158.28      ]\t[4996.43061663  201.26241974]  \t[-10000.      0.]      \t[  0.86512821 487.        ]\n",
      "8  \t34    \t[-3599.44631795    90.42      ]\t[4800.41526154  181.59197009]  \t[-10000.      0.]      \t[  0.86512821 656.        ]\n",
      "9  \t39    \t[-3199.41171282   112.58      ]\t[4665.16507755  188.34320694]  \t[-10000.      0.]      \t[  0.86512821 459.        ]\n",
      "10 \t32    \t[-2399.34250256    77.86      ]\t[4271.20078247  163.99463528]  \t[-10000.      0.]      \t[  0.86512821 454.        ]\n",
      "mnb model has 86.78229665071771% accuracy\n",
      "\n",
      "\n"
     ]
    }
   ],
   "source": [
    "estimator = MultinomialNB()#svm.SVC(C=2.0,gamma='scale',kernel = 'rbf', random_state = 0)\n",
    "selector = GeneticSelectionCV(estimator,\n",
    "                                  cv=5,\n",
    "                                  verbose=1,\n",
    "                                  scoring=\"accuracy\",\n",
    "                                  max_features=10,\n",
    "                                  n_population=50,\n",
    "                                  crossover_proba=0.5,\n",
    "                                  mutation_proba=0.2,\n",
    "                                  n_generations=200,\n",
    "                                  crossover_independent_proba=0.5,\n",
    "                                  mutation_independent_proba=0.05,\n",
    "                                  tournament_size=3,\n",
    "                                  n_gen_no_change=10,\n",
    "                                  caching=True,\n",
    "                                  n_jobs=-1)\n",
    "\n",
    "\n",
    "selector.fit(X_train,y_train)\n",
    "y_pred = selector.predict(X_test)\n",
    "acc_mnb1 = accuracy_score(y_test,y_pred)\n",
    "print(f'mnb model has {acc_mnb1*100}% accuracy')\n",
    "print('\\n')"
   ]
  },
  {
   "cell_type": "code",
   "execution_count": 115,
   "id": "2beb0bde",
   "metadata": {},
   "outputs": [
    {
     "name": "stdout",
     "output_type": "stream",
     "text": [
      "Selecting features with genetic algorithm.\n",
      "gen\tnevals\tavg                    \tstd                            \tmin                    \tmax                      \n",
      "0  \t50    \t[0.86512308 5.7       ]\t[3.58974359e-05 2.80891438e+00]\t[0.86487179 1.        ]\t[ 0.86512821 10.        ]\n",
      "1  \t30    \t[-1599.27329231    72.4       ]\t[3666.3777172   159.07432225]  \t[-1.e+04  1.e+00]      \t[  0.86512821 476.        ]\n",
      "2  \t31    \t[-1999.30789744    87.94      ]\t[4000.34605128  171.03314416]  \t[-1.e+04  1.e+00]      \t[  0.86512821 453.        ]\n",
      "3  \t30    \t[-2799.37710769   125.96      ]\t[4490.37730573  199.21676235]  \t[-1.e+04  1.e+00]      \t[  0.86512821 481.        ]\n",
      "4  \t29    \t[-2599.35980513    87.96      ]\t[4386.72191475  173.6757853 ]  \t[-10000.      0.]      \t[  0.86512821 478.        ]\n",
      "5  \t34    \t[-2799.37710769   103.9       ]\t[4490.37730573  183.1619229 ]  \t[-10000.      0.]      \t[  0.86512821 469.        ]\n",
      "6  \t33    \t[-2999.39441026    94.44      ]\t[4582.9721465   180.44746161]  \t[-10000.      0.]      \t[  0.86512821 604.        ]\n",
      "7  \t34    \t[-2199.3252    87.26  ]        \t[4142.8214116   172.58549302]  \t[-10000.      0.]      \t[  0.86512821 475.        ]\n",
      "8  \t31    \t[-2599.35980513   111.08      ]\t[4386.72191475  216.18777394]  \t[-10000.      0.]      \t[  0.86512821 832.        ]\n",
      "9  \t19    \t[-1999.30789744    77.78      ]\t[4000.34605128  164.14984496]  \t[-10000.      0.]      \t[  0.86512821 474.        ]\n",
      "10 \t28    \t[-2399.34250256    80.76      ]\t[4271.20078247  170.47352404]  \t[-10000.      0.]      \t[  0.86512821 482.        ]\n",
      "mnb model has 86.78229665071771% accuracy\n",
      "\n",
      "\n"
     ]
    }
   ],
   "source": [
    "estimator = LogisticRegression()#svm.SVC(C=2.0,gamma='scale',kernel = 'rbf', random_state = 0)\n",
    "selector = GeneticSelectionCV(estimator,\n",
    "                                  cv=5,\n",
    "                                  verbose=1,\n",
    "                                  scoring=\"accuracy\",\n",
    "                                  max_features=10,\n",
    "                                  n_population=50,\n",
    "                                  crossover_proba=0.5,\n",
    "                                  mutation_proba=0.2,\n",
    "                                  n_generations=200,\n",
    "                                  crossover_independent_proba=0.5,\n",
    "                                  mutation_independent_proba=0.05,\n",
    "                                  tournament_size=3,\n",
    "                                  n_gen_no_change=10,\n",
    "                                  caching=True,\n",
    "                                  n_jobs=-1)\n",
    "\n",
    "\n",
    "selector.fit(X_train,y_train)\n",
    "y_pred = selector.predict(X_test)\n",
    "acc_lr1 = accuracy_score(y_test,y_pred)\n",
    "print(f'mnb model has {acc_lr1*100}% accuracy')\n",
    "print('\\n')"
   ]
  },
  {
   "cell_type": "code",
   "execution_count": 116,
   "id": "5a168e15",
   "metadata": {},
   "outputs": [
    {
     "name": "stdout",
     "output_type": "stream",
     "text": [
      "Selecting features with genetic algorithm.\n",
      "gen\tnevals\tavg                    \tstd                    \tmin                    \tmax                      \n",
      "0  \t50    \t[0.86592308 5.46      ]\t[0.00305344 2.94081621]\t[0.86333333 1.        ]\t[ 0.88487179 10.        ]\n",
      "1  \t20    \t[-2599.35792308   121.4       ]\t[4386.72303033  195.17612559]\t[-1.e+04  1.e+00]      \t[  0.88487179 488.        ]\n",
      "2  \t34    \t[-3199.4083641   118.98     ]  \t[4665.16737476  183.79831229]\t[-1.e+04  2.e+00]      \t[  0.88692308 460.        ]\n",
      "3  \t34    \t[-2999.38931282    95.6       ]\t[4582.97548356  170.5030205 ]\t[-1.e+04  2.e+00]      \t[  0.88692308 470.        ]\n",
      "4  \t34    \t[-2399.33464615    84.52      ]\t[4271.2051974   163.63229999]\t[-1.e+04  2.e+00]      \t[  0.89153846 450.        ]\n",
      "5  \t28    \t[-2799.36535897   129.38      ]\t[4490.38463235  211.22943829]\t[-1.e+04  4.e+00]      \t[  0.89230769 831.        ]\n",
      "6  \t29    \t[-2399.3272359    93.76     ]  \t[4271.20936161  171.63479368]\t[-1.e+04  5.e+00]      \t[  0.89435897 486.        ]\n",
      "7  \t34    \t[-2599.34290256   103.92      ]\t[4386.73193373  180.8321697 ]\t[-1.e+04  4.e+00]      \t[  0.89435897 490.        ]\n",
      "8  \t25    \t[-1599.25236923    60.66      ]\t[3666.38684879  141.48365418]\t[-1.e+04  5.e+00]      \t[  0.89435897 458.        ]\n",
      "9  \t26    \t[-2799.35772308   119.56      ]\t[4490.38939416  188.94699363]\t[-1.e+04  5.e+00]      \t[  0.89589744 486.        ]\n",
      "10 \t26    \t[-1799.26711795    96.26      ]\t[3842.2179133   195.67164434]\t[-1.e+04  4.e+00]      \t[  0.89641026 824.        ]\n",
      "11 \t38    \t[-1999.28401538    85.48      ]\t[4000.35799231  166.20712861]\t[-1.e+04  5.e+00]      \t[  0.89641026 462.        ]\n",
      "12 \t21    \t[-1199.21184615    61.18      ]\t[3249.90640695  145.10681445]\t[-1.e+04  5.e+00]      \t[  0.89641026 482.        ]\n",
      "13 \t28    \t[-1399.22932308    67.68      ]\t[3470.18126214  147.66224162]\t[-1.e+04  5.e+00]      \t[  0.89641026 455.        ]\n",
      "14 \t29    \t[-1599.24705641    77.5       ]\t[3666.38916749  158.79398603]\t[-1.e+04  6.e+00]      \t[  0.89641026 463.        ]\n",
      "15 \t27    \t[-1999.28288205    98.04      ]\t[4000.35855897  180.42172375]\t[-1.e+04  6.e+00]      \t[  0.89641026 490.        ]\n",
      "16 \t34    \t[-1599.24701538    75.54      ]\t[3666.38918539  155.89511987]\t[-1.e+04  6.e+00]      \t[  0.89641026 466.        ]\n",
      "17 \t34    \t[-1599.24701538    76.64      ]\t[3666.38918539  159.70106574]\t[-1.e+04  5.e+00]      \t[  0.89641026 476.        ]\n",
      "18 \t28    \t[-2599.33665641   118.88      ]\t[4386.73563613  190.38735672]\t[-1.e+04  5.e+00]      \t[  0.89641026 478.        ]\n",
      "19 \t24    \t[-2399.31872821   109.2       ]\t[4271.21414251  184.34728097]\t[-1.e+04  5.e+00]      \t[  0.89641026 492.        ]\n",
      "20 \t27    \t[-1999.28287179    90.76      ]\t[4000.3585641   171.05303973]\t[-1.e+04  5.e+00]      \t[  0.89641026 490.        ]\n",
      "21 \t31    \t[-2199.3008   102.14  ]        \t[4142.83437008  182.81214511]\t[-1.e+04  5.e+00]      \t[  0.89641026 487.        ]\n",
      "22 \t31    \t[-2799.35458462   123.62      ]\t[4490.39135134  190.40828658]\t[-1.e+04  5.e+00]      \t[  0.89641026 454.        ]\n",
      "23 \t26    \t[-999.19323077   54.58      ]  \t[3000.26892308  155.5942274 ]\t[-1.e+04  5.e+00]      \t[  0.89641026 786.        ]\n",
      "24 \t31    \t[-1799.26494359    83.46      ]\t[3842.21893203  167.55156937]\t[-1.e+04  5.e+00]      \t[  0.89641026 459.        ]\n",
      "25 \t25    \t[-1399.22908718    65.8       ]\t[3470.18135731  151.32917762]\t[-1.e+04  5.e+00]      \t[  0.89641026 486.        ]\n",
      "26 \t27    \t[-1799.26494359    82.26      ]\t[3842.21893203  165.02373284]\t[-1.e+04  5.e+00]      \t[  0.89641026 462.        ]\n",
      "27 \t27    \t[-1599.24701538    75.02      ]\t[3666.38918539  160.63542449]\t[-1.e+04  5.e+00]      \t[  0.89641026 465.        ]\n",
      "mnb model has 89.5933014354067% accuracy\n",
      "\n",
      "\n"
     ]
    }
   ],
   "source": [
    "estimator = DecisionTreeClassifier()#svm.SVC(C=2.0,gamma='scale',kernel = 'rbf', random_state = 0)\n",
    "selector = GeneticSelectionCV(estimator,\n",
    "                                  cv=5,\n",
    "                                  verbose=1,\n",
    "                                  scoring=\"accuracy\",\n",
    "                                  max_features=10,\n",
    "                                  n_population=50,\n",
    "                                  crossover_proba=0.5,\n",
    "                                  mutation_proba=0.2,\n",
    "                                  n_generations=200,\n",
    "                                  crossover_independent_proba=0.5,\n",
    "                                  mutation_independent_proba=0.05,\n",
    "                                  tournament_size=3,\n",
    "                                  n_gen_no_change=10,\n",
    "                                  caching=True,\n",
    "                                  n_jobs=-1)\n",
    "\n",
    "\n",
    "selector.fit(X_train,y_train)\n",
    "y_pred = selector.predict(X_test)\n",
    "acc_dt1 = accuracy_score(y_test,y_pred)\n",
    "print(f'mnb model has {acc_dt1*100}% accuracy')\n",
    "print('\\n')"
   ]
  },
  {
   "cell_type": "code",
   "execution_count": 117,
   "id": "f64e39ca",
   "metadata": {},
   "outputs": [
    {
     "name": "stdout",
     "output_type": "stream",
     "text": [
      "Selecting features with genetic algorithm.\n",
      "gen\tnevals\tavg                    \tstd                    \tmin                    \tmax                      \n",
      "0  \t50    \t[0.86633333 5.02      ]\t[0.00313167 2.88090264]\t[0.86435897 1.        ]\t[ 0.87871795 10.        ]\n",
      "1  \t27    \t[-1599.26988205    76.02      ]\t[3666.37920556  165.4109416 ]\t[-1.e+04  1.e+00]      \t[  0.87871795 477.        ]\n",
      "2  \t37    \t[-1599.26639487    66.5       ]\t[3666.3807275   153.89662115]\t[-10000.      0.]      \t[  0.88641026 471.        ]\n",
      "3  \t20    \t[-1799.28087179    83.28      ]\t[3842.21146934  167.3098969 ]\t[-1.e+04  2.e+00]      \t[  0.89102564 465.        ]\n",
      "4  \t28    \t[-1399.24077949    74.28      ]\t[3470.17663978  174.19518248]\t[-1.e+04  2.e+00]      \t[  0.89153846 792.        ]\n",
      "5  \t26    \t[-2799.36169744   118.64      ]\t[4490.38691571  187.64847561]\t[-1.e+04  2.e+00]      \t[  0.89205128 466.        ]\n",
      "6  \t27    \t[-1999.28858462    87.        ]\t[4000.35570769  168.5273865 ]\t[-1.e+04  4.e+00]      \t[  0.89205128 472.        ]\n",
      "7  \t30    \t[-1599.25203077    79.12      ]\t[3666.3869965   162.35844789]\t[-1.e+04  6.e+00]      \t[  0.89205128 485.        ]\n",
      "8  \t29    \t[-1999.28691282    95.98      ]\t[4000.35654359  175.91389826]\t[-1.e+04  5.e+00]      \t[  0.89205128 477.        ]\n",
      "9  \t27    \t[-1799.26877436    84.64      ]\t[3842.21713724  163.64140796]\t[-1.e+04  5.e+00]      \t[  0.89282051 467.        ]\n",
      "10 \t23    \t[-1199.21514872    60.24      ]\t[3249.9051874   141.76961028]\t[-1.e+04  6.e+00]      \t[  0.89282051 477.        ]\n",
      "11 \t29    \t[-2199.30426667   106.04      ]\t[4142.83252898  184.90267278]\t[-1.e+04  6.e+00]      \t[  0.89282051 473.        ]\n",
      "12 \t27    \t[-1599.25068718    77.44      ]\t[3666.38758289  159.27073303]\t[-1.e+04  7.e+00]      \t[  0.89282051 481.        ]\n",
      "13 \t33    \t[-1599.25068718    78.58      ]\t[3666.38758289  161.83721327]\t[-1.e+04  7.e+00]      \t[  0.89282051 472.        ]\n",
      "14 \t30    \t[-1999.2864    95.22  ]        \t[4000.3568      173.71566308]\t[-1.e+04  7.e+00]      \t[  0.89282051 474.        ]\n",
      "15 \t32    \t[-2999.37552821   127.08      ]\t[4582.98450771  185.8066565 ]\t[-1.e+04  7.e+00]      \t[  0.89282051 456.        ]\n",
      "16 \t31    \t[-1999.28638462   101.36      ]\t[4000.35680769  188.21187635]\t[-1.e+04  7.e+00]      \t[  0.89282051 615.        ]\n",
      "17 \t38    \t[-2999.37564103   138.38      ]\t[4582.98443385  198.61096546]\t[-1.e+04  7.e+00]      \t[  0.89282051 492.        ]\n",
      "18 \t23    \t[-2599.33982051   111.52      ]\t[4386.73376061  178.29472679]\t[-1.e+04  7.e+00]      \t[  0.89282051 463.        ]\n",
      "19 \t30    \t[-1799.26848718    85.26      ]\t[3842.21727179  163.64446951]\t[-1.e+04  7.e+00]      \t[  0.89282051 463.        ]\n",
      "mnb model has 88.75598086124403% accuracy\n",
      "\n",
      "\n"
     ]
    }
   ],
   "source": [
    "estimator = RandomForestClassifier()#svm.SVC(C=2.0,gamma='scale',kernel = 'rbf', random_state = 0)\n",
    "selector = GeneticSelectionCV(estimator,\n",
    "                                  cv=5,\n",
    "                                  verbose=1,\n",
    "                                  scoring=\"accuracy\",\n",
    "                                  max_features=10,\n",
    "                                  n_population=50,\n",
    "                                  crossover_proba=0.5,\n",
    "                                  mutation_proba=0.2,\n",
    "                                  n_generations=200,\n",
    "                                  crossover_independent_proba=0.5,\n",
    "                                  mutation_independent_proba=0.05,\n",
    "                                  tournament_size=3,\n",
    "                                  n_gen_no_change=10,\n",
    "                                  caching=True,\n",
    "                                  n_jobs=-1)\n",
    "\n",
    "\n",
    "selector.fit(X_train,y_train)\n",
    "y_pred = selector.predict(X_test)\n",
    "acc_rf1 = accuracy_score(y_test,y_pred)\n",
    "print(f'mnb model has {acc_rf1*100}% accuracy')\n",
    "print('\\n')"
   ]
  },
  {
   "cell_type": "code",
   "execution_count": null,
   "id": "32383cc3",
   "metadata": {},
   "outputs": [],
   "source": []
  }
 ],
 "metadata": {
  "kernelspec": {
   "display_name": "Python 3",
   "language": "python",
   "name": "python3"
  },
  "language_info": {
   "codemirror_mode": {
    "name": "ipython",
    "version": 3
   },
   "file_extension": ".py",
   "mimetype": "text/x-python",
   "name": "python",
   "nbconvert_exporter": "python",
   "pygments_lexer": "ipython3",
   "version": "3.8.8"
  },
  "papermill": {
   "default_parameters": {},
   "duration": 128.05903,
   "end_time": "2021-06-21T06:13:18.647229",
   "environment_variables": {},
   "exception": null,
   "input_path": "__notebook__.ipynb",
   "output_path": "__notebook__.ipynb",
   "parameters": {},
   "start_time": "2021-06-21T06:11:10.588199",
   "version": "2.3.3"
  }
 },
 "nbformat": 4,
 "nbformat_minor": 5
}
