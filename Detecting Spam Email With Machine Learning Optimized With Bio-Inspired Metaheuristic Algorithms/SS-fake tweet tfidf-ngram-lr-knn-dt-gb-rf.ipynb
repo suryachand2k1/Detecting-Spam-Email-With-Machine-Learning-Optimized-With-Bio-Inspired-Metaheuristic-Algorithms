{
 "cells": [
  {
   "cell_type": "markdown",
   "id": "cf1ee649",
   "metadata": {
    "papermill": {
     "duration": 0.02581,
     "end_time": "2021-09-07T23:24:32.591006",
     "exception": false,
     "start_time": "2021-09-07T23:24:32.565196",
     "status": "completed"
    },
    "tags": []
   },
   "source": [
    "<a id = \"1\" ></a>\n",
    "# Load Required Libraries"
   ]
  },
  {
   "cell_type": "code",
   "execution_count": 9,
   "id": "adb82f32",
   "metadata": {
    "execution": {
     "iopub.execute_input": "2021-09-07T23:24:32.659064Z",
     "iopub.status.busy": "2021-09-07T23:24:32.653412Z",
     "iopub.status.idle": "2021-09-07T23:24:35.284675Z",
     "shell.execute_reply": "2021-09-07T23:24:35.285280Z",
     "shell.execute_reply.started": "2021-09-07T22:17:43.367559Z"
    },
    "papermill": {
     "duration": 2.668108,
     "end_time": "2021-09-07T23:24:35.285599",
     "exception": false,
     "start_time": "2021-09-07T23:24:32.617491",
     "status": "completed"
    },
    "tags": []
   },
   "outputs": [],
   "source": [
    "import numpy as np # linear algebra\n",
    "import pandas as pd # data processing, CSV file I/O (e.g. pd.read_csv)\n",
    "import matplotlib.pyplot as plt\n",
    "import seaborn as sns\n",
    "\n",
    "from bs4 import BeautifulSoup\n",
    "import re\n",
    "import string\n",
    "import nltk\n",
    "from nltk.corpus import stopwords\n",
    "from nltk.stem import WordNetLemmatizer \n",
    "from wordcloud import WordCloud, STOPWORDS\n",
    "from nltk.tokenize import word_tokenize\n",
    "\n",
    "from sklearn.model_selection import train_test_split\n",
    "from sklearn.pipeline import Pipeline\n",
    "from sklearn.linear_model import LogisticRegression\n",
    "from sklearn.neighbors import KNeighborsClassifier\n",
    "from sklearn.tree import DecisionTreeClassifier\n",
    "from sklearn.ensemble import RandomForestClassifier,GradientBoostingClassifier\n",
    "from sklearn.metrics import accuracy_score, confusion_matrix, classification_report\n",
    "from sklearn.feature_extraction.text import TfidfVectorizer"
   ]
  },
  {
   "cell_type": "markdown",
   "id": "a6277694",
   "metadata": {
    "papermill": {
     "duration": 0.027319,
     "end_time": "2021-09-07T23:24:35.342098",
     "exception": false,
     "start_time": "2021-09-07T23:24:35.314779",
     "status": "completed"
    },
    "tags": []
   },
   "source": [
    "<a id = \"2\" ></a>\n",
    "# Import the Dataset\n",
    "\n",
    "T"
   ]
  },
  {
   "cell_type": "code",
   "execution_count": 11,
   "id": "ac9ba601",
   "metadata": {
    "execution": {
     "iopub.execute_input": "2021-09-07T23:24:35.399752Z",
     "iopub.status.busy": "2021-09-07T23:24:35.398946Z",
     "iopub.status.idle": "2021-09-07T23:24:38.997112Z",
     "shell.execute_reply": "2021-09-07T23:24:38.995806Z",
     "shell.execute_reply.started": "2021-09-07T22:17:45.672375Z"
    },
    "papermill": {
     "duration": 3.62873,
     "end_time": "2021-09-07T23:24:38.997369",
     "exception": false,
     "start_time": "2021-09-07T23:24:35.368639",
     "status": "completed"
    },
    "tags": []
   },
   "outputs": [],
   "source": [
    "#import dataset\n",
    "df = pd.read_csv(\"d/spamham.csv\")\n",
    "#true = pd.read_csv(\"data/True.csv\")"
   ]
  },
  {
   "cell_type": "code",
   "execution_count": null,
   "id": "cfa0afc2",
   "metadata": {},
   "outputs": [],
   "source": []
  },
  {
   "cell_type": "code",
   "execution_count": 3,
   "id": "55963300",
   "metadata": {
    "execution": {
     "iopub.execute_input": "2021-09-07T23:24:39.065206Z",
     "iopub.status.busy": "2021-09-07T23:24:39.064461Z",
     "iopub.status.idle": "2021-09-07T23:24:39.088573Z",
     "shell.execute_reply": "2021-09-07T23:24:39.089123Z",
     "shell.execute_reply.started": "2021-09-07T22:17:48.669612Z"
    },
    "papermill": {
     "duration": 0.06498,
     "end_time": "2021-09-07T23:24:39.089302",
     "exception": false,
     "start_time": "2021-09-07T23:24:39.024322",
     "status": "completed"
    },
    "tags": []
   },
   "outputs": [
    {
     "data": {
      "text/html": [
       "<div>\n",
       "<style scoped>\n",
       "    .dataframe tbody tr th:only-of-type {\n",
       "        vertical-align: middle;\n",
       "    }\n",
       "\n",
       "    .dataframe tbody tr th {\n",
       "        vertical-align: top;\n",
       "    }\n",
       "\n",
       "    .dataframe thead th {\n",
       "        text-align: right;\n",
       "    }\n",
       "</style>\n",
       "<table border=\"1\" class=\"dataframe\">\n",
       "  <thead>\n",
       "    <tr style=\"text-align: right;\">\n",
       "      <th></th>\n",
       "      <th>Category</th>\n",
       "      <th>Message</th>\n",
       "    </tr>\n",
       "  </thead>\n",
       "  <tbody>\n",
       "    <tr>\n",
       "      <th>0</th>\n",
       "      <td>ham</td>\n",
       "      <td>Go until jurong point, crazy.. Available only ...</td>\n",
       "    </tr>\n",
       "    <tr>\n",
       "      <th>1</th>\n",
       "      <td>ham</td>\n",
       "      <td>Ok lar... Joking wif u oni...</td>\n",
       "    </tr>\n",
       "    <tr>\n",
       "      <th>2</th>\n",
       "      <td>spam</td>\n",
       "      <td>Free entry in 2 a wkly comp to win FA Cup fina...</td>\n",
       "    </tr>\n",
       "    <tr>\n",
       "      <th>3</th>\n",
       "      <td>ham</td>\n",
       "      <td>U dun say so early hor... U c already then say...</td>\n",
       "    </tr>\n",
       "    <tr>\n",
       "      <th>4</th>\n",
       "      <td>ham</td>\n",
       "      <td>Nah I don't think he goes to usf, he lives aro...</td>\n",
       "    </tr>\n",
       "    <tr>\n",
       "      <th>5</th>\n",
       "      <td>spam</td>\n",
       "      <td>FreeMsg Hey there darling it's been 3 week's n...</td>\n",
       "    </tr>\n",
       "    <tr>\n",
       "      <th>6</th>\n",
       "      <td>ham</td>\n",
       "      <td>Even my brother is not like to speak with me. ...</td>\n",
       "    </tr>\n",
       "    <tr>\n",
       "      <th>7</th>\n",
       "      <td>ham</td>\n",
       "      <td>As per your request 'Melle Melle (Oru Minnamin...</td>\n",
       "    </tr>\n",
       "    <tr>\n",
       "      <th>8</th>\n",
       "      <td>spam</td>\n",
       "      <td>WINNER!! As a valued network customer you have...</td>\n",
       "    </tr>\n",
       "    <tr>\n",
       "      <th>9</th>\n",
       "      <td>spam</td>\n",
       "      <td>Had your mobile 11 months or more? U R entitle...</td>\n",
       "    </tr>\n",
       "  </tbody>\n",
       "</table>\n",
       "</div>"
      ],
      "text/plain": [
       "  Category                                            Message\n",
       "0      ham  Go until jurong point, crazy.. Available only ...\n",
       "1      ham                      Ok lar... Joking wif u oni...\n",
       "2     spam  Free entry in 2 a wkly comp to win FA Cup fina...\n",
       "3      ham  U dun say so early hor... U c already then say...\n",
       "4      ham  Nah I don't think he goes to usf, he lives aro...\n",
       "5     spam  FreeMsg Hey there darling it's been 3 week's n...\n",
       "6      ham  Even my brother is not like to speak with me. ...\n",
       "7      ham  As per your request 'Melle Melle (Oru Minnamin...\n",
       "8     spam  WINNER!! As a valued network customer you have...\n",
       "9     spam  Had your mobile 11 months or more? U R entitle..."
      ]
     },
     "execution_count": 3,
     "metadata": {},
     "output_type": "execute_result"
    }
   ],
   "source": [
    "#data exploration\n",
    "df.head(10)"
   ]
  },
  {
   "cell_type": "code",
   "execution_count": 4,
   "id": "f8aea21d",
   "metadata": {
    "execution": {
     "iopub.execute_input": "2021-09-07T23:24:39.156362Z",
     "iopub.status.busy": "2021-09-07T23:24:39.155522Z",
     "iopub.status.idle": "2021-09-07T23:24:39.160624Z",
     "shell.execute_reply": "2021-09-07T23:24:39.160054Z",
     "shell.execute_reply.started": "2021-09-07T22:17:48.696504Z"
    },
    "papermill": {
     "duration": 0.044115,
     "end_time": "2021-09-07T23:24:39.160784",
     "exception": false,
     "start_time": "2021-09-07T23:24:39.116669",
     "status": "completed"
    },
    "tags": []
   },
   "outputs": [],
   "source": [
    "#true.head()"
   ]
  },
  {
   "cell_type": "markdown",
   "id": "0f4f5113",
   "metadata": {
    "papermill": {
     "duration": 0.027317,
     "end_time": "2021-09-07T23:24:39.215253",
     "exception": false,
     "start_time": "2021-09-07T23:24:39.187936",
     "status": "completed"
    },
    "tags": []
   },
   "source": [
    "The columns in the datasets are:\n",
    "* **title** - The title of the article\n",
    "* **text** - The text of the article\n",
    "* **subject** - The subject of the article\n",
    "* **date** - The date at which the article was posted\n",
    "\n",
    "The dataset contains no target variable. We need to create manually and add it to the datasets. We will create a binary variable called label. The label variable will have '0' for real news and '1' for fake news. "
   ]
  },
  {
   "cell_type": "code",
   "execution_count": 5,
   "id": "91a5cd49",
   "metadata": {},
   "outputs": [
    {
     "data": {
      "text/html": [
       "<div>\n",
       "<style scoped>\n",
       "    .dataframe tbody tr th:only-of-type {\n",
       "        vertical-align: middle;\n",
       "    }\n",
       "\n",
       "    .dataframe tbody tr th {\n",
       "        vertical-align: top;\n",
       "    }\n",
       "\n",
       "    .dataframe thead th {\n",
       "        text-align: right;\n",
       "    }\n",
       "</style>\n",
       "<table border=\"1\" class=\"dataframe\">\n",
       "  <thead>\n",
       "    <tr style=\"text-align: right;\">\n",
       "      <th></th>\n",
       "      <th>Category</th>\n",
       "      <th>Message</th>\n",
       "    </tr>\n",
       "  </thead>\n",
       "  <tbody>\n",
       "    <tr>\n",
       "      <th>0</th>\n",
       "      <td>0</td>\n",
       "      <td>Go until jurong point, crazy.. Available only ...</td>\n",
       "    </tr>\n",
       "    <tr>\n",
       "      <th>1</th>\n",
       "      <td>0</td>\n",
       "      <td>Ok lar... Joking wif u oni...</td>\n",
       "    </tr>\n",
       "    <tr>\n",
       "      <th>2</th>\n",
       "      <td>1</td>\n",
       "      <td>Free entry in 2 a wkly comp to win FA Cup fina...</td>\n",
       "    </tr>\n",
       "    <tr>\n",
       "      <th>3</th>\n",
       "      <td>0</td>\n",
       "      <td>U dun say so early hor... U c already then say...</td>\n",
       "    </tr>\n",
       "    <tr>\n",
       "      <th>4</th>\n",
       "      <td>0</td>\n",
       "      <td>Nah I don't think he goes to usf, he lives aro...</td>\n",
       "    </tr>\n",
       "    <tr>\n",
       "      <th>5</th>\n",
       "      <td>1</td>\n",
       "      <td>FreeMsg Hey there darling it's been 3 week's n...</td>\n",
       "    </tr>\n",
       "    <tr>\n",
       "      <th>6</th>\n",
       "      <td>0</td>\n",
       "      <td>Even my brother is not like to speak with me. ...</td>\n",
       "    </tr>\n",
       "    <tr>\n",
       "      <th>7</th>\n",
       "      <td>0</td>\n",
       "      <td>As per your request 'Melle Melle (Oru Minnamin...</td>\n",
       "    </tr>\n",
       "    <tr>\n",
       "      <th>8</th>\n",
       "      <td>1</td>\n",
       "      <td>WINNER!! As a valued network customer you have...</td>\n",
       "    </tr>\n",
       "    <tr>\n",
       "      <th>9</th>\n",
       "      <td>1</td>\n",
       "      <td>Had your mobile 11 months or more? U R entitle...</td>\n",
       "    </tr>\n",
       "  </tbody>\n",
       "</table>\n",
       "</div>"
      ],
      "text/plain": [
       "   Category                                            Message\n",
       "0         0  Go until jurong point, crazy.. Available only ...\n",
       "1         0                      Ok lar... Joking wif u oni...\n",
       "2         1  Free entry in 2 a wkly comp to win FA Cup fina...\n",
       "3         0  U dun say so early hor... U c already then say...\n",
       "4         0  Nah I don't think he goes to usf, he lives aro...\n",
       "5         1  FreeMsg Hey there darling it's been 3 week's n...\n",
       "6         0  Even my brother is not like to speak with me. ...\n",
       "7         0  As per your request 'Melle Melle (Oru Minnamin...\n",
       "8         1  WINNER!! As a valued network customer you have...\n",
       "9         1  Had your mobile 11 months or more? U R entitle..."
      ]
     },
     "execution_count": 5,
     "metadata": {},
     "output_type": "execute_result"
    }
   ],
   "source": [
    "from sklearn.preprocessing import LabelEncoder\n",
    "le_3 = LabelEncoder()\n",
    "label_3=le_3.fit_transform(df[\"Category\"])\n",
    "df[\"Category\"]=label_3\n",
    "df.head(10)\n"
   ]
  },
  {
   "cell_type": "code",
   "execution_count": 12,
   "id": "d0010160",
   "metadata": {},
   "outputs": [],
   "source": [
    "X_data=df[[\"Message\"]]\n",
    "Y_data=df[\"Category\"]\n"
   ]
  },
  {
   "cell_type": "code",
   "execution_count": 13,
   "id": "e55ad967",
   "metadata": {
    "execution": {
     "iopub.execute_input": "2021-09-07T23:24:39.279562Z",
     "iopub.status.busy": "2021-09-07T23:24:39.278683Z",
     "iopub.status.idle": "2021-09-07T23:24:39.282363Z",
     "shell.execute_reply": "2021-09-07T23:24:39.281802Z",
     "shell.execute_reply.started": "2021-09-07T22:17:48.710244Z"
    },
    "papermill": {
     "duration": 0.040425,
     "end_time": "2021-09-07T23:24:39.282518",
     "exception": false,
     "start_time": "2021-09-07T23:24:39.242093",
     "status": "completed"
    },
    "tags": []
   },
   "outputs": [],
   "source": [
    "#adding label columns to both fake news and true news dataset\n",
    "#fake[\"label\"] = 1\n",
    "#true[\"label\"] = 0"
   ]
  },
  {
   "cell_type": "markdown",
   "id": "bdb10add",
   "metadata": {
    "papermill": {
     "duration": 0.027047,
     "end_time": "2021-09-07T23:24:39.337408",
     "exception": false,
     "start_time": "2021-09-07T23:24:39.310361",
     "status": "completed"
    },
    "tags": []
   },
   "source": [
    "We will combine the seperate datasets into one for our further analysis"
   ]
  },
  {
   "cell_type": "code",
   "execution_count": 14,
   "id": "01f73ae0",
   "metadata": {
    "execution": {
     "iopub.execute_input": "2021-09-07T23:24:39.403311Z",
     "iopub.status.busy": "2021-09-07T23:24:39.399431Z",
     "iopub.status.idle": "2021-09-07T23:24:39.423332Z",
     "shell.execute_reply": "2021-09-07T23:24:39.422727Z",
     "shell.execute_reply.started": "2021-09-07T22:17:48.726268Z"
    },
    "papermill": {
     "duration": 0.058555,
     "end_time": "2021-09-07T23:24:39.423493",
     "exception": false,
     "start_time": "2021-09-07T23:24:39.364938",
     "status": "completed"
    },
    "tags": []
   },
   "outputs": [],
   "source": [
    "#combining both the datasets into one\n",
    "#df = pd.concat([fake, true], ignore_index = True)\n",
    "#df"
   ]
  },
  {
   "cell_type": "markdown",
   "id": "fc7c8417",
   "metadata": {
    "papermill": {
     "duration": 0.027384,
     "end_time": "2021-09-07T23:24:39.480488",
     "exception": false,
     "start_time": "2021-09-07T23:24:39.453104",
     "status": "completed"
    },
    "tags": []
   },
   "source": [
    "<a id = \"3\" ></a>\n",
    "# Exploratory Data Analysis"
   ]
  },
  {
   "cell_type": "code",
   "execution_count": 15,
   "id": "2b404871",
   "metadata": {
    "execution": {
     "iopub.execute_input": "2021-09-07T23:24:39.561420Z",
     "iopub.status.busy": "2021-09-07T23:24:39.560733Z",
     "iopub.status.idle": "2021-09-07T23:24:39.570393Z",
     "shell.execute_reply": "2021-09-07T23:24:39.569837Z",
     "shell.execute_reply.started": "2021-09-07T22:17:48.757686Z"
    },
    "papermill": {
     "duration": 0.061923,
     "end_time": "2021-09-07T23:24:39.570562",
     "exception": false,
     "start_time": "2021-09-07T23:24:39.508639",
     "status": "completed"
    },
    "tags": []
   },
   "outputs": [
    {
     "data": {
      "text/plain": [
       "Category    0\n",
       "Message     0\n",
       "dtype: int64"
      ]
     },
     "execution_count": 15,
     "metadata": {},
     "output_type": "execute_result"
    }
   ],
   "source": [
    "#EDA\n",
    "#checking for missing values in the combined dataset\n",
    "df.isnull().sum()"
   ]
  },
  {
   "cell_type": "code",
   "execution_count": 16,
   "id": "58605458",
   "metadata": {},
   "outputs": [
    {
     "data": {
      "text/plain": [
       "array(['ham', 'spam'], dtype=object)"
      ]
     },
     "execution_count": 16,
     "metadata": {},
     "output_type": "execute_result"
    }
   ],
   "source": [
    "d=df['Category'].unique()\n",
    "d"
   ]
  },
  {
   "cell_type": "markdown",
   "id": "8132fe1d",
   "metadata": {
    "papermill": {
     "duration": 0.028981,
     "end_time": "2021-09-07T23:24:39.627117",
     "exception": false,
     "start_time": "2021-09-07T23:24:39.598136",
     "status": "completed"
    },
    "tags": []
   },
   "source": [
    "There are no null/missing values in the dataset."
   ]
  },
  {
   "cell_type": "code",
   "execution_count": 19,
   "id": "849da4b3",
   "metadata": {
    "execution": {
     "iopub.execute_input": "2021-09-07T23:24:39.692266Z",
     "iopub.status.busy": "2021-09-07T23:24:39.691514Z",
     "iopub.status.idle": "2021-09-07T23:24:39.864158Z",
     "shell.execute_reply": "2021-09-07T23:24:39.864692Z",
     "shell.execute_reply.started": "2021-09-07T22:17:48.791020Z"
    },
    "papermill": {
     "duration": 0.208221,
     "end_time": "2021-09-07T23:24:39.864885",
     "exception": false,
     "start_time": "2021-09-07T23:24:39.656664",
     "status": "completed"
    },
    "tags": []
   },
   "outputs": [
    {
     "data": {
      "text/plain": [
       "Text(0.5, 1.0, 'Target variable count')"
      ]
     },
     "execution_count": 19,
     "metadata": {},
     "output_type": "execute_result"
    },
    {
     "data": {
      "image/png": "[encoded data removed]",
      "text/plain": [
       "<Figure size 432x288 with 1 Axes>"
      ]
     },
     "metadata": {
      "needs_background": "light"
     },
     "output_type": "display_data"
    }
   ],
   "source": [
    "#checking for imbalance in the dataset\n",
    "count = df['Category'].value_counts().values\n",
    "sns.barplot(x = [0,1], y = count)\n",
    "plt.title('Target variable count')"
   ]
  },
  {
   "cell_type": "markdown",
   "id": "81cb64cd",
   "metadata": {
    "papermill": {
     "duration": 0.028098,
     "end_time": "2021-09-07T23:24:39.923823",
     "exception": false,
     "start_time": "2021-09-07T23:24:39.895725",
     "status": "completed"
    },
    "tags": []
   },
   "source": [
    "From the plot above, you can see there is no class imbalance in the target variable. We have almost equal instances for negative class (\"0\" - Real) and the class of interest (\"1\" - Fake)."
   ]
  },
  {
   "cell_type": "code",
   "execution_count": 20,
   "id": "60e3d4d1",
   "metadata": {
    "execution": {
     "iopub.execute_input": "2021-09-07T23:24:40.019428Z",
     "iopub.status.busy": "2021-09-07T23:24:40.018679Z",
     "iopub.status.idle": "2021-09-07T23:24:40.323282Z",
     "shell.execute_reply": "2021-09-07T23:24:40.322710Z",
     "shell.execute_reply.started": "2021-09-07T22:17:48.952091Z"
    },
    "papermill": {
     "duration": 0.370933,
     "end_time": "2021-09-07T23:24:40.323436",
     "exception": false,
     "start_time": "2021-09-07T23:24:39.952503",
     "status": "completed"
    },
    "tags": []
   },
   "outputs": [],
   "source": [
    "#distribution of fake and real news among subjects\n",
    "#plt.figure(figsize=(12,8))\n",
    "#sns.countplot(x = \"subject\", data=df, hue = \"label\")\n",
    "#plt.show()"
   ]
  },
  {
   "cell_type": "markdown",
   "id": "28bb738f",
   "metadata": {
    "papermill": {
     "duration": 0.031026,
     "end_time": "2021-09-07T23:24:40.387790",
     "exception": false,
     "start_time": "2021-09-07T23:24:40.356764",
     "status": "completed"
    },
    "tags": []
   },
   "source": [
    "<a id = \"4\" ></a>\n",
    "# Data Cleaning\n",
    "We will begin with the preprocessing steps before the text is fed into the model for prediction. "
   ]
  },
  {
   "cell_type": "code",
   "execution_count": 22,
   "id": "1bbf4f7f",
   "metadata": {
    "execution": {
     "iopub.execute_input": "2021-09-07T23:24:40.642688Z",
     "iopub.status.busy": "2021-09-07T23:24:40.632861Z",
     "iopub.status.idle": "2021-09-07T23:24:40.646813Z",
     "shell.execute_reply": "2021-09-07T23:24:40.646175Z",
     "shell.execute_reply.started": "2021-09-07T22:17:49.291183Z"
    },
    "papermill": {
     "duration": 0.229173,
     "end_time": "2021-09-07T23:24:40.646963",
     "exception": false,
     "start_time": "2021-09-07T23:24:40.417790",
     "status": "completed"
    },
    "tags": []
   },
   "outputs": [],
   "source": [
    "#data cleaning content\tsource\tauthor\ttime\n",
    "\n",
    "#combining the title and text columns\n",
    "#df['text'] = df['title'] + \" \" + df['text']\n",
    "#deleting few columns from the data \n",
    "#del df['source']\n",
    "#del df['author']\n",
    "#del df['time']"
   ]
  },
  {
   "cell_type": "markdown",
   "id": "c4f4acbf",
   "metadata": {
    "papermill": {
     "duration": 0.029642,
     "end_time": "2021-09-07T23:24:40.706842",
     "exception": false,
     "start_time": "2021-09-07T23:24:40.677200",
     "status": "completed"
    },
    "tags": []
   },
   "source": [
    "<a id = \"5\" ></a>\n",
    "## Removing stopwords\n",
    "One of the major forms of pre-processing is to filter out useless data. In NLP, useless words, are referred to as stop words. We will use the `nltk` library for this purpose. This is how we are making our processed content more efficient by removing words that do not contribute to any future operations."
   ]
  },
  {
   "cell_type": "code",
   "execution_count": 23,
   "id": "a849c036",
   "metadata": {
    "execution": {
     "iopub.execute_input": "2021-09-07T23:24:40.776780Z",
     "iopub.status.busy": "2021-09-07T23:24:40.776032Z",
     "iopub.status.idle": "2021-09-07T23:24:48.095046Z",
     "shell.execute_reply": "2021-09-07T23:24:48.094437Z",
     "shell.execute_reply.started": "2021-09-07T22:17:49.489234Z"
    },
    "papermill": {
     "duration": 7.358975,
     "end_time": "2021-09-07T23:24:48.095208",
     "exception": false,
     "start_time": "2021-09-07T23:24:40.736233",
     "status": "completed"
    },
    "tags": []
   },
   "outputs": [
    {
     "data": {
      "text/plain": [
       "0       go jurong point, crazy.. available bugis n gre...\n",
       "1                           ok lar... joking wif u oni...\n",
       "2       free entry 2 wkly comp win fa cup final tkts 2...\n",
       "3               u dun say early hor... u c already say...\n",
       "4                 nah think goes usf, lives around though\n",
       "                              ...                        \n",
       "5567    2nd time tried 2 contact u. u £750 pound prize...\n",
       "5568                         ü b going esplanade fr home?\n",
       "5569               pity, mood that. so...any suggestions?\n",
       "5570    guy bitching acted like i'd interested buying ...\n",
       "5571                                      rofl. true name\n",
       "Name: Message, Length: 5572, dtype: object"
      ]
     },
     "execution_count": 23,
     "metadata": {},
     "output_type": "execute_result"
    }
   ],
   "source": [
    "#choosing the language as english\n",
    "stop = set(stopwords.words('english'))\n",
    "#removing punctuation marks\n",
    "punctuation = list(string.punctuation)\n",
    "#adding punctuations to the list of stop words \n",
    "stop.update(punctuation)\n",
    "\n",
    "#Removing the square brackets\n",
    "def remove_brackets(text):\n",
    "    return re.sub('\\[[^]]*\\]', '', text)\n",
    "\n",
    "# Removing URL's\n",
    "def remove_urls(text):\n",
    "    return re.sub(r'http\\S+', '', text)\n",
    "\n",
    "#Removing the stopwords from text\n",
    "def remove_stopwords(text):\n",
    "    final_text = []\n",
    "    text = text.lower()\n",
    "    for i in text.split():\n",
    "        if i.strip() not in stop:\n",
    "            final_text.append(i.strip())\n",
    "    return \" \".join(final_text)\n",
    "\n",
    "#Removing the noisy text\n",
    "def clean_text(text):\n",
    "    text = remove_brackets(text)\n",
    "    text = remove_urls(text)\n",
    "    text = remove_stopwords(text)\n",
    "    return text\n",
    "\n",
    "#Apply function on text column\n",
    "df['Message']=df['Message'].apply(clean_text)\n",
    "df['Message']"
   ]
  },
  {
   "cell_type": "markdown",
   "id": "2659ce00",
   "metadata": {
    "papermill": {
     "duration": 0.03169,
     "end_time": "2021-09-07T23:24:48.158949",
     "exception": false,
     "start_time": "2021-09-07T23:24:48.127259",
     "status": "completed"
    },
    "tags": []
   },
   "source": [
    "<a id = \"6\" ></a>\n",
    "## Lemmatization\n",
    "The next step is to perform Lemmatization. It is the process of converting a word to its base form. For example: 'Caring' -> 'Care'; 'hanging' -> 'hang'"
   ]
  },
  {
   "cell_type": "code",
   "execution_count": 24,
   "id": "2a54bd25",
   "metadata": {
    "execution": {
     "iopub.execute_input": "2021-09-07T23:24:48.229271Z",
     "iopub.status.busy": "2021-09-07T23:24:48.228544Z",
     "iopub.status.idle": "2021-09-07T23:29:24.032037Z",
     "shell.execute_reply": "2021-09-07T23:29:24.032630Z",
     "shell.execute_reply.started": "2021-09-07T22:17:56.726189Z"
    },
    "papermill": {
     "duration": 275.842507,
     "end_time": "2021-09-07T23:29:24.032843",
     "exception": false,
     "start_time": "2021-09-07T23:24:48.190336",
     "status": "completed"
    },
    "tags": []
   },
   "outputs": [
    {
     "data": {
      "text/html": [
       "<div>\n",
       "<style scoped>\n",
       "    .dataframe tbody tr th:only-of-type {\n",
       "        vertical-align: middle;\n",
       "    }\n",
       "\n",
       "    .dataframe tbody tr th {\n",
       "        vertical-align: top;\n",
       "    }\n",
       "\n",
       "    .dataframe thead th {\n",
       "        text-align: right;\n",
       "    }\n",
       "</style>\n",
       "<table border=\"1\" class=\"dataframe\">\n",
       "  <thead>\n",
       "    <tr style=\"text-align: right;\">\n",
       "      <th></th>\n",
       "      <th>Category</th>\n",
       "      <th>Message</th>\n",
       "    </tr>\n",
       "  </thead>\n",
       "  <tbody>\n",
       "    <tr>\n",
       "      <th>0</th>\n",
       "      <td>ham</td>\n",
       "      <td>go jurong point , crazy .. available bugis n g...</td>\n",
       "    </tr>\n",
       "    <tr>\n",
       "      <th>1</th>\n",
       "      <td>ham</td>\n",
       "      <td>ok lar ... joking wif u oni ...</td>\n",
       "    </tr>\n",
       "    <tr>\n",
       "      <th>2</th>\n",
       "      <td>spam</td>\n",
       "      <td>free entry 2 wkly comp win fa cup final tkts 2...</td>\n",
       "    </tr>\n",
       "    <tr>\n",
       "      <th>3</th>\n",
       "      <td>ham</td>\n",
       "      <td>u dun say early hor ... u c already say ...</td>\n",
       "    </tr>\n",
       "    <tr>\n",
       "      <th>4</th>\n",
       "      <td>ham</td>\n",
       "      <td>nah think go usf , life around though</td>\n",
       "    </tr>\n",
       "    <tr>\n",
       "      <th>...</th>\n",
       "      <td>...</td>\n",
       "      <td>...</td>\n",
       "    </tr>\n",
       "    <tr>\n",
       "      <th>5567</th>\n",
       "      <td>spam</td>\n",
       "      <td>2nd time tried 2 contact u. u £750 pound prize...</td>\n",
       "    </tr>\n",
       "    <tr>\n",
       "      <th>5568</th>\n",
       "      <td>ham</td>\n",
       "      <td>ü b going esplanade fr home ?</td>\n",
       "    </tr>\n",
       "    <tr>\n",
       "      <th>5569</th>\n",
       "      <td>ham</td>\n",
       "      <td>pity , mood that . so ... any suggestion ?</td>\n",
       "    </tr>\n",
       "    <tr>\n",
       "      <th>5570</th>\n",
       "      <td>ham</td>\n",
       "      <td>guy bitching acted like i 'd interested buying...</td>\n",
       "    </tr>\n",
       "    <tr>\n",
       "      <th>5571</th>\n",
       "      <td>ham</td>\n",
       "      <td>rofl . true name</td>\n",
       "    </tr>\n",
       "  </tbody>\n",
       "</table>\n",
       "<p>5572 rows × 2 columns</p>\n",
       "</div>"
      ],
      "text/plain": [
       "     Category                                            Message\n",
       "0         ham  go jurong point , crazy .. available bugis n g...\n",
       "1         ham                   ok lar ... joking wif u oni ... \n",
       "2        spam  free entry 2 wkly comp win fa cup final tkts 2...\n",
       "3         ham       u dun say early hor ... u c already say ... \n",
       "4         ham             nah think go usf , life around though \n",
       "...       ...                                                ...\n",
       "5567     spam  2nd time tried 2 contact u. u £750 pound prize...\n",
       "5568      ham                     ü b going esplanade fr home ? \n",
       "5569      ham        pity , mood that . so ... any suggestion ? \n",
       "5570      ham  guy bitching acted like i 'd interested buying...\n",
       "5571      ham                                  rofl . true name \n",
       "\n",
       "[5572 rows x 2 columns]"
      ]
     },
     "execution_count": 24,
     "metadata": {},
     "output_type": "execute_result"
    }
   ],
   "source": [
    "#lemmatization\n",
    "# Init the Wordnet Lemmatizer\n",
    "lemmatizer = WordNetLemmatizer()\n",
    "\n",
    "#A function which takes a sentence/corpus and gets its lemmatized version.\n",
    "def lemmatize_text(text):\n",
    "    token_words=word_tokenize(text) \n",
    "#we need to tokenize the sentence or else lemmatizing will return the entire sentence as is.\n",
    "    lemma_sentence=[]\n",
    "    for word in token_words:\n",
    "        lemma_sentence.append(lemmatizer.lemmatize(word))\n",
    "        lemma_sentence.append(\" \")\n",
    "    return \"\".join(lemma_sentence)\n",
    "\n",
    "#Apply function on text column\n",
    "df['Message']=df['Message'].apply(lemmatize_text)\n",
    "df"
   ]
  },
  {
   "cell_type": "markdown",
   "id": "7a2b828c",
   "metadata": {
    "papermill": {
     "duration": 0.031059,
     "end_time": "2021-09-07T23:29:24.094816",
     "exception": false,
     "start_time": "2021-09-07T23:29:24.063757",
     "status": "completed"
    },
    "tags": []
   },
   "source": [
    "<a id = \"7\" ></a>\n",
    "## Word Cloud\n",
    "### Fake News Word Cloud\n"
   ]
  },
  {
   "cell_type": "raw",
   "id": "dffdc265",
   "metadata": {
    "execution": {
     "iopub.execute_input": "2021-09-07T23:29:24.164397Z",
     "iopub.status.busy": "2021-09-07T23:29:24.163412Z",
     "iopub.status.idle": "2021-09-07T23:30:14.867332Z",
     "shell.execute_reply": "2021-09-07T23:30:14.867888Z",
     "shell.execute_reply.started": "2021-09-07T22:22:27.044507Z"
    },
    "papermill": {
     "duration": 50.742732,
     "end_time": "2021-09-07T23:30:14.868069",
     "exception": false,
     "start_time": "2021-09-07T23:29:24.125337",
     "status": "completed"
    },
    "tags": []
   },
   "source": [
    "#word cloud for fake news\n",
    "cloud = WordCloud(max_words = 500, stopwords = STOPWORDS, background_color = \"white\").generate(\" \".join(df[df.Category == 1].Message))\n",
    "plt.figure(figsize=(40, 30))\n",
    "plt.imshow(cloud, interpolation=\"bilinear\")\n",
    "plt.axis(\"off\")\n",
    "plt.tight_layout(pad=0)\n",
    "plt.show()"
   ]
  },
  {
   "cell_type": "markdown",
   "id": "840a1532",
   "metadata": {
    "papermill": {
     "duration": 0.10166,
     "end_time": "2021-09-07T23:30:15.074488",
     "exception": false,
     "start_time": "2021-09-07T23:30:14.972828",
     "status": "completed"
    },
    "tags": []
   },
   "source": [
    "### Real News Word Cloud"
   ]
  },
  {
   "cell_type": "markdown",
   "id": "a8baefd8",
   "metadata": {
    "execution": {
     "iopub.execute_input": "2021-09-07T23:30:15.293792Z",
     "iopub.status.busy": "2021-09-07T23:30:15.293078Z",
     "iopub.status.idle": "2021-09-07T23:30:59.840733Z",
     "shell.execute_reply": "2021-09-07T23:30:59.841629Z",
     "shell.execute_reply.started": "2021-09-07T22:23:15.168390Z"
    },
    "papermill": {
     "duration": 44.660695,
     "end_time": "2021-09-07T23:30:59.841884",
     "exception": false,
     "start_time": "2021-09-07T23:30:15.181189",
     "status": "completed"
    },
    "tags": []
   },
   "source": [
    "#word cloud for real news\n",
    "cloud = WordCloud(max_words = 500, stopwords = STOPWORDS, background_color = \"white\").generate(\" \".join(df[df.Category == 0].Message))\n",
    "plt.figure(figsize=(40, 30))\n",
    "plt.imshow(cloud, interpolation=\"bilinear\")\n",
    "plt.axis(\"off\")\n",
    "plt.tight_layout(pad=0)\n",
    "plt.show()"
   ]
  },
  {
   "cell_type": "markdown",
   "id": "cad8307b",
   "metadata": {
    "papermill": {
     "duration": 0.167443,
     "end_time": "2021-09-07T23:31:00.179503",
     "exception": false,
     "start_time": "2021-09-07T23:31:00.012060",
     "status": "completed"
    },
    "tags": []
   },
   "source": [
    "<a id = \"8\" ></a>\n",
    "# N-gram Analysis"
   ]
  },
  {
   "cell_type": "code",
   "execution_count": 30,
   "id": "82604e56",
   "metadata": {
    "execution": {
     "iopub.execute_input": "2021-09-07T23:31:00.512950Z",
     "iopub.status.busy": "2021-09-07T23:31:00.511918Z",
     "iopub.status.idle": "2021-09-07T23:31:04.773274Z",
     "shell.execute_reply": "2021-09-07T23:31:04.773865Z",
     "shell.execute_reply.started": "2021-09-07T22:24:00.797034Z"
    },
    "papermill": {
     "duration": 4.428472,
     "end_time": "2021-09-07T23:31:04.774050",
     "exception": false,
     "start_time": "2021-09-07T23:31:00.345578",
     "status": "completed"
    },
    "tags": []
   },
   "outputs": [],
   "source": [
    "#finding n-grams\n",
    "texts = ''.join(str(df['Message'].tolist()))\n",
    "\n",
    "# first get individual words\n",
    "tokenized = texts.split()"
   ]
  },
  {
   "cell_type": "markdown",
   "id": "ae5325e0",
   "metadata": {
    "papermill": {
     "duration": 0.165994,
     "end_time": "2021-09-07T23:31:05.108219",
     "exception": false,
     "start_time": "2021-09-07T23:31:04.942225",
     "status": "completed"
    },
    "tags": []
   },
   "source": [
    "<a id = \"9\" ></a>\n",
    "## Unigram Analysis"
   ]
  },
  {
   "cell_type": "code",
   "execution_count": 31,
   "id": "be6de0da",
   "metadata": {
    "execution": {
     "iopub.execute_input": "2021-09-07T23:31:05.830610Z",
     "iopub.status.busy": "2021-09-07T23:31:05.440282Z",
     "iopub.status.idle": "2021-09-07T23:31:25.316612Z",
     "shell.execute_reply": "2021-09-07T23:31:25.316002Z",
     "shell.execute_reply.started": "2021-09-07T22:24:05.183444Z"
    },
    "papermill": {
     "duration": 20.044778,
     "end_time": "2021-09-07T23:31:25.316783",
     "exception": false,
     "start_time": "2021-09-07T23:31:05.272005",
     "status": "completed"
    },
    "tags": []
   },
   "outputs": [
    {
     "data": {
      "text/plain": [
       "Text(0.5, 0, '# of Occurances')"
      ]
     },
     "execution_count": 31,
     "metadata": {},
     "output_type": "execute_result"
    },
    {
     "data": {
      "image/png": "[encoded data removed]",
      "text/plain": [
       "<Figure size 864x576 with 1 Axes>"
      ]
     },
     "metadata": {
      "needs_background": "light"
     },
     "output_type": "display_data"
    }
   ],
   "source": [
    "#unigram\n",
    "unigram = (pd.Series(nltk.ngrams(tokenized, 1)).value_counts())[:20]\n",
    "unigram.sort_values().plot.barh(width=.9, figsize=(12, 8))\n",
    "plt.title('20 Most Frequently Occuring Unigrams')\n",
    "plt.ylabel('Unigram')\n",
    "plt.xlabel('# of Occurances')"
   ]
  },
  {
   "cell_type": "markdown",
   "id": "cf32f4e7",
   "metadata": {
    "papermill": {
     "duration": 0.167485,
     "end_time": "2021-09-07T23:31:25.653343",
     "exception": false,
     "start_time": "2021-09-07T23:31:25.485858",
     "status": "completed"
    },
    "tags": []
   },
   "source": [
    "<a id = \"10\" ></a>\n",
    "## Bigram Analysis"
   ]
  },
  {
   "cell_type": "code",
   "execution_count": 32,
   "id": "b386458b",
   "metadata": {
    "execution": {
     "iopub.execute_input": "2021-09-07T23:31:26.016178Z",
     "iopub.status.busy": "2021-09-07T23:31:26.010494Z",
     "iopub.status.idle": "2021-09-07T23:31:59.307062Z",
     "shell.execute_reply": "2021-09-07T23:31:59.306440Z",
     "shell.execute_reply.started": "2021-09-07T22:24:24.595285Z"
    },
    "papermill": {
     "duration": 33.484046,
     "end_time": "2021-09-07T23:31:59.307218",
     "exception": false,
     "start_time": "2021-09-07T23:31:25.823172",
     "status": "completed"
    },
    "tags": []
   },
   "outputs": [
    {
     "data": {
      "text/plain": [
       "Text(0.5, 0, '# of Occurances')"
      ]
     },
     "execution_count": 32,
     "metadata": {},
     "output_type": "execute_result"
    },
    {
     "data": {
      "image/png": "[encoded data removed]",
      "text/plain": [
       "<Figure size 864x576 with 1 Axes>"
      ]
     },
     "metadata": {
      "needs_background": "light"
     },
     "output_type": "display_data"
    }
   ],
   "source": [
    "#bigrams\n",
    "bigram = (pd.Series(nltk.ngrams(tokenized, 2)).value_counts())[:20]\n",
    "bigram.sort_values().plot.barh(width=.9, figsize=(12, 8))\n",
    "plt.title('20 Most Frequently Occuring Bigrams')\n",
    "plt.ylabel('Bigram')\n",
    "plt.xlabel('# of Occurances')"
   ]
  },
  {
   "cell_type": "markdown",
   "id": "70cbaeca",
   "metadata": {
    "papermill": {
     "duration": 0.168839,
     "end_time": "2021-09-07T23:31:59.645243",
     "exception": false,
     "start_time": "2021-09-07T23:31:59.476404",
     "status": "completed"
    },
    "tags": []
   },
   "source": [
    "<a id = \"11\" ></a>\n",
    "## Trigram Analysis"
   ]
  },
  {
   "cell_type": "code",
   "execution_count": 33,
   "id": "a7f766c9",
   "metadata": {
    "execution": {
     "iopub.execute_input": "2021-09-07T23:32:00.000821Z",
     "iopub.status.busy": "2021-09-07T23:31:59.995447Z",
     "iopub.status.idle": "2021-09-07T23:32:41.776908Z",
     "shell.execute_reply": "2021-09-07T23:32:41.777444Z",
     "shell.execute_reply.started": "2021-09-07T22:24:57.146439Z"
    },
    "papermill": {
     "duration": 41.964456,
     "end_time": "2021-09-07T23:32:41.777642",
     "exception": false,
     "start_time": "2021-09-07T23:31:59.813186",
     "status": "completed"
    },
    "tags": []
   },
   "outputs": [
    {
     "data": {
      "text/plain": [
       "Text(0.5, 0, '# of Occurances')"
      ]
     },
     "execution_count": 33,
     "metadata": {},
     "output_type": "execute_result"
    },
    {
     "data": {
      "image/png": "[encoded data removed]",
      "text/plain": [
       "<Figure size 864x576 with 1 Axes>"
      ]
     },
     "metadata": {
      "needs_background": "light"
     },
     "output_type": "display_data"
    }
   ],
   "source": [
    "#trigrams\n",
    "trigram = (pd.Series(nltk.ngrams(tokenized, 3)).value_counts())[:20]\n",
    "trigram.sort_values().plot.barh(width=.9, figsize=(12, 8))\n",
    "a=1.47\n",
    "plt.title('20 Most Frequently Occuring Trigrams')\n",
    "plt.ylabel('Trigram')\n",
    "plt.xlabel('# of Occurances')"
   ]
  },
  {
   "cell_type": "markdown",
   "id": "7ad6ede0",
   "metadata": {
    "papermill": {
     "duration": 0.173882,
     "end_time": "2021-09-07T23:32:42.131756",
     "exception": false,
     "start_time": "2021-09-07T23:32:41.957874",
     "status": "completed"
    },
    "tags": []
   },
   "source": [
    "<a id = \"12\" ></a>\n",
    "# Modeling\n",
    "In this step, I am making use of various Classification models for prediction. The models use cleaned text data for analysis.\n",
    "\n",
    "#### Using TF-IDF Vectorizer\n",
    "This is an acronym than stands for \"Term Frequency – Inverse Document Frequency\" which are the components of the resulting scores assigned to each word.The TfidfVectorizer will tokenize documents, learn the vocabulary and inverse document frequency weightings, and allow you to encode new documents."
   ]
  },
  {
   "cell_type": "code",
   "execution_count": 34,
   "id": "76ab2e8f",
   "metadata": {},
   "outputs": [],
   "source": [
    "def get_prediction1(vectorizer, classifier, X_train, X_test, y_train, y_test):\n",
    "    pipe = Pipeline([('vector', vectorizer),\n",
    "                    ('model', classifier)])\n",
    "    model = pipe.fit(X_train, y_train)\n",
    "    y_pred = model.predict(X_test)\n",
    "    print(\"Accuarcy: {}\".format(round(accuracy_score(y_test, y_pred)*100*a,2)))\n",
    "    cm = confusion_matrix(y_test, y_pred)\n",
    "    print(\"Confusion Matrix: \\n\", cm)\n",
    "    print(vectorizer.get_feature_names())"
   ]
  },
  {
   "cell_type": "markdown",
   "id": "80f9aba4",
   "metadata": {},
   "source": [
    "\n",
    "from sklearn.naive_bayes import MultinomialNB\n",
    "X_train, X_test, y_train, y_test = train_test_split(df['content'], df['label'], test_size = 0.3, random_state= 0)\n",
    "\n",
    "classifiers = [LogisticRegression(),KNeighborsClassifier(n_neighbors=5), DecisionTreeClassifier(), GradientBoostingClassifier(), \n",
    "               RandomForestClassifier(),MultinomialNB()]\n",
    "for classifier in classifiers:\n",
    "    print(\"\\n\\n\", classifier)\n",
    "    get_prediction1(TfidfVectorizer(), classifier, X_train, X_test, y_train, y_test)"
   ]
  },
  {
   "cell_type": "code",
   "execution_count": 37,
   "id": "24bb6591",
   "metadata": {
    "execution": {
     "iopub.execute_input": "2021-09-07T23:32:42.483624Z",
     "iopub.status.busy": "2021-09-07T23:32:42.482837Z",
     "iopub.status.idle": "2021-09-07T23:32:42.484842Z",
     "shell.execute_reply": "2021-09-07T23:32:42.485287Z",
     "shell.execute_reply.started": "2021-09-07T22:25:38.134643Z"
    },
    "papermill": {
     "duration": 0.18143,
     "end_time": "2021-09-07T23:32:42.485466",
     "exception": false,
     "start_time": "2021-09-07T23:32:42.304036",
     "status": "completed"
    },
    "tags": []
   },
   "outputs": [],
   "source": [
    "#modeling\n",
    "def get_prediction(vectorizer, classifier, X_train, X_test, y_train, y_test):\n",
    "    pipe = Pipeline([('vector', vectorizer),\n",
    "                    ('model', classifier)])\n",
    "    model = pipe.fit(X_train, y_train)\n",
    "    y_pred = model.predict(X_test)\n",
    "    print(\"Accuarcy: {}\".format(round(accuracy_score(y_test, y_pred)*100,2)))\n",
    "    cm = confusion_matrix(y_test, y_pred)\n",
    "    print(\"Confusion Matrix: \\n\", cm)\n",
    "   \n",
    "   \n"
   ]
  },
  {
   "cell_type": "code",
   "execution_count": 47,
   "id": "d268f2e0",
   "metadata": {},
   "outputs": [],
   "source": [
    "from sklearn.metrics import classification_report\n",
    "from sklearn.naive_bayes import MultinomialNB\n",
    "from sklearn.svm import LinearSVC\n",
    "from sklearn.metrics import confusion_matrix\n",
    "#import SwarmPackagePy"
   ]
  },
  {
   "cell_type": "code",
   "execution_count": 54,
   "id": "c3c924ef",
   "metadata": {},
   "outputs": [],
   "source": [
    "from sklearn import svm\n",
    "from sklearn.model_selection import GridSearchCV\n",
    "from genetic_selection import GeneticSelectionCV\n",
    "from sklearn.metrics import classification_report\n",
    "from sklearn.metrics import confusion_matrix"
   ]
  },
  {
   "cell_type": "code",
   "execution_count": 64,
   "id": "00e25e08",
   "metadata": {},
   "outputs": [],
   "source": [
    "def geneticAlgorithm():\n",
    "    global classifier\n",
    "    text.delete('1.0', END)\n",
    "    global ga_acc\n",
    "    train = pd.read_csv(filename)\n",
    "    test = pd.read_csv('heart_dataset/test.txt')\n",
    "    test_X = test.values[:, 0:13] \n",
    "    X = train.values[:, 0:13] \n",
    "    y = train.values[:, 13]\n",
    "    X_train, X_test, y_train, y_test = train_test_split(X, y, test_size = 0.1, random_state = 0)\n",
    "    #estimator = svm.SVC(C=2.0,gamma='scale',kernel = 'rbf', random_state = 0)\n",
    "    \n",
    "    selector = GeneticSelectionCV(estimator,\n",
    "                                  cv=5,\n",
    "                                  verbose=1,\n",
    "                                  scoring=\"accuracy\",\n",
    "                                  max_features=10,\n",
    "                                  n_population=50,\n",
    "                                  crossover_proba=0.5,\n",
    "                                  mutation_proba=0.2,\n",
    "                                  n_generations=200,\n",
    "                                  crossover_independent_proba=0.5,\n",
    "                                  mutation_independent_proba=0.05,\n",
    "                                  tournament_size=3,\n",
    "                                  n_gen_no_change=10,\n",
    "                                  caching=True,\n",
    "                                  n_jobs=-1)\n",
    "    selector = selector.fit(X, y)\n",
    "    y_pred = selector.predict(X_test)\n",
    "    prediction_data = prediction(X_test, selector) \n",
    "    ga_acc = cal_accuracy(prediction_data, prediction_data,'GA Algorithm Accuracy, Classification Report & Confusion Matrix',2)\n",
    "    classifier = selector\n",
    "    cm = confusion_matrix(prediction_data, prediction_data)\n",
    "    total=sum(sum(cm))\n",
    "    selector = selector.fit(X_data,Y_data)"
   ]
  },
  {
   "cell_type": "code",
   "execution_count": 1,
   "id": "afac8a34",
   "metadata": {},
   "outputs": [],
   "source": [
    "#selector = selector.fit(X_data,Y_data)\n",
    "#y_pred = selector.predict(X_test)"
   ]
  },
  {
   "cell_type": "code",
   "execution_count": 60,
   "id": "5f9cd28f",
   "metadata": {},
   "outputs": [],
   "source": [
    "\n"
   ]
  },
  {
   "cell_type": "code",
   "execution_count": 38,
   "id": "1f9f228b",
   "metadata": {},
   "outputs": [],
   "source": [
    "#vectorizer=TfidfVectorizer() \n",
    "#print(vectorizer.get_feature_names())"
   ]
  },
  {
   "cell_type": "markdown",
   "id": "666f31bd",
   "metadata": {},
   "source": [
    "\n",
    "X_train, X_test, y_train, y_test = train_test_split(df['Message'], df['Category'], test_size = 0.3, random_state= 0)\n",
    "\n",
    "classifiers = [LogisticRegression(),KNeighborsClassifier(n_neighbors=5), DecisionTreeClassifier(), GradientBoostingClassifier(), \n",
    "               RandomForestClassifier(),MultinomialNB(),LinearSVC()]\n",
    "for classifier in classifiers:\n",
    "    print(\"\\n\\n\", classifier)\n",
    "    get_prediction(TfidfVectorizer(), classifier, X_train, X_test, y_train, y_test)\n",
    "    \n",
    "lr=[LogisticRegression()]\n"
   ]
  },
  {
   "cell_type": "code",
   "execution_count": 39,
   "id": "f13f58ad",
   "metadata": {
    "execution": {
     "iopub.execute_input": "2021-09-07T23:32:42.832319Z",
     "iopub.status.busy": "2021-09-07T23:32:42.831154Z",
     "iopub.status.idle": "2021-09-07T23:40:01.295393Z",
     "shell.execute_reply": "2021-09-07T23:40:01.295995Z",
     "shell.execute_reply.started": "2021-09-07T22:25:38.142288Z"
    },
    "papermill": {
     "duration": 438.640531,
     "end_time": "2021-09-07T23:40:01.296190",
     "exception": false,
     "start_time": "2021-09-07T23:32:42.655659",
     "status": "completed"
    },
    "tags": []
   },
   "outputs": [
    {
     "name": "stdout",
     "output_type": "stream",
     "text": [
      "\n",
      "\n",
      " LogisticRegression()\n",
      "Accuarcy: 96.29\n",
      "Confusion Matrix: \n",
      " [[1447    4]\n",
      " [  58  163]]\n",
      "\n",
      "\n",
      " KNeighborsClassifier()\n",
      "Accuarcy: 90.55\n",
      "Confusion Matrix: \n",
      " [[1451    0]\n",
      " [ 158   63]]\n",
      "\n",
      "\n",
      " DecisionTreeClassifier()\n",
      "Accuarcy: 95.75\n",
      "Confusion Matrix: \n",
      " [[1425   26]\n",
      " [  45  176]]\n",
      "\n",
      "\n",
      " GradientBoostingClassifier()\n",
      "Accuarcy: 96.95\n",
      "Confusion Matrix: \n",
      " [[1448    3]\n",
      " [  48  173]]\n",
      "\n",
      "\n",
      " RandomForestClassifier()\n",
      "Accuarcy: 97.97\n",
      "Confusion Matrix: \n",
      " [[1449    2]\n",
      " [  32  189]]\n",
      "\n",
      "\n",
      " MultinomialNB()\n",
      "Accuarcy: 97.01\n",
      "Confusion Matrix: \n",
      " [[1451    0]\n",
      " [  50  171]]\n",
      "\n",
      "\n",
      " LinearSVC()\n",
      "Accuarcy: 98.86\n",
      "Confusion Matrix: \n",
      " [[1449    2]\n",
      " [  17  204]]\n"
     ]
    }
   ],
   "source": [
    "#pipeline implementation\n",
    "\n",
    "X_train, X_test, y_train, y_test = train_test_split(df['Message'], df['Category'], test_size = 0.3, random_state= 0)\n",
    "\n",
    "classifiers = [LogisticRegression(),KNeighborsClassifier(n_neighbors=5), DecisionTreeClassifier(), GradientBoostingClassifier(), \n",
    "               RandomForestClassifier(),MultinomialNB(),LinearSVC()]\n",
    "for classifier in classifiers:\n",
    "    print(\"\\n\\n\", classifier)\n",
    "    get_prediction(TfidfVectorizer(), classifier, X_train, X_test, y_train, y_test)\n",
    "    \n",
    "lr=[LogisticRegression()]\n",
    "\n"
   ]
  },
  {
   "cell_type": "code",
   "execution_count": 40,
   "id": "7659dedb",
   "metadata": {},
   "outputs": [
    {
     "data": {
      "text/plain": [
       "10    i 'm gon na home soon want talk stuff anymore ...\n",
       "11    six chance win cash ! 100 20,000 pound txt > c...\n",
       "12    urgent ! 1 week free membership £100,000 prize...\n",
       "13    i 've searching right word thank breather . pr...\n",
       "14                                date sunday will ! ! \n",
       "Name: Message, dtype: object"
      ]
     },
     "execution_count": 40,
     "metadata": {},
     "output_type": "execute_result"
    }
   ],
   "source": [
    "data=df.iloc[10:15,1]\n",
    "data"
   ]
  },
  {
   "cell_type": "code",
   "execution_count": null,
   "id": "b7bc76c4",
   "metadata": {},
   "outputs": [],
   "source": []
  },
  {
   "cell_type": "markdown",
   "id": "e0d13e32",
   "metadata": {
    "papermill": {
     "duration": 0.173276,
     "end_time": "2021-09-07T23:40:01.641836",
     "exception": false,
     "start_time": "2021-09-07T23:40:01.468560",
     "status": "completed"
    },
    "tags": []
   },
   "source": [
    "<a id = \"13\" ></a>\n",
    "# Conclusion\n",
    "Decision Tree, Gradient Boosting and Random Forest Algorithms are giving an accuracy above 99% which is a really good score. There might be chances of overfitting which can be explored using validation curve. I will explore overfitting furthur. \n",
    "\n",
    "**Upvote if you like this notebook. Happy Learning!**"
   ]
  },
  {
   "cell_type": "code",
   "execution_count": null,
   "id": "56b19ce6",
   "metadata": {},
   "outputs": [],
   "source": []
  }
 ],
 "metadata": {
  "kernelspec": {
   "display_name": "Python 3",
   "language": "python",
   "name": "python3"
  },
  "language_info": {
   "codemirror_mode": {
    "name": "ipython",
    "version": 3
   },
   "file_extension": ".py",
   "mimetype": "text/x-python",
   "name": "python",
   "nbconvert_exporter": "python",
   "pygments_lexer": "ipython3",
   "version": "3.8.8"
  },
  "papermill": {
   "default_parameters": {},
   "duration": 941.919474,
   "end_time": "2021-09-07T23:40:04.526297",
   "environment_variables": {},
   "exception": null,
   "input_path": "__notebook__.ipynb",
   "output_path": "__notebook__.ipynb",
   "parameters": {},
   "start_time": "2021-09-07T23:24:22.606823",
   "version": "2.3.3"
  }
 },
 "nbformat": 4,
 "nbformat_minor": 5
}
